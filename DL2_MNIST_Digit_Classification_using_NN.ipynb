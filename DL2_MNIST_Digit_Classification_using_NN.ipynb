{
  "nbformat": 4,
  "nbformat_minor": 0,
  "metadata": {
    "colab": {
      "provenance": [],
      "authorship_tag": "ABX9TyOZdeNgKkkcQdAyHcNPbJ8I",
      "include_colab_link": true
    },
    "kernelspec": {
      "name": "python3",
      "display_name": "Python 3"
    },
    "language_info": {
      "name": "python"
    }
  },
  "cells": [
    {
      "cell_type": "markdown",
      "metadata": {
        "id": "view-in-github",
        "colab_type": "text"
      },
      "source": [
        "<a href=\"https://colab.research.google.com/github/Rohit-Madhesiya/ML_Colab_Repos/blob/main/DL2_MNIST_Digit_Classification_using_NN.ipynb\" target=\"_parent\"><img src=\"https://colab.research.google.com/assets/colab-badge.svg\" alt=\"Open In Colab\"/></a>"
      ]
    },
    {
      "cell_type": "markdown",
      "source": [
        "**Importing the dependencies**"
      ],
      "metadata": {
        "id": "jd_U_9zz56kI"
      }
    },
    {
      "cell_type": "code",
      "execution_count": 58,
      "metadata": {
        "id": "cDZTIIJr5cfy"
      },
      "outputs": [],
      "source": [
        "import numpy as np\n",
        "import matplotlib.pyplot as plt\n",
        "import seaborn as sns\n",
        "import cv2\n",
        "from google.colab.patches import cv2_imshow\n",
        "from PIL import Image\n",
        "import tensorflow as tf\n",
        "tf.random.set_seed(3)\n",
        "from tensorflow import keras\n",
        "from keras.datasets import mnist\n",
        "from tensorflow.math import confusion_matrix"
      ]
    },
    {
      "cell_type": "markdown",
      "source": [
        "**Loading the MNIST data from keras.datasets**"
      ],
      "metadata": {
        "id": "XBcQXx6d7ZqB"
      }
    },
    {
      "cell_type": "code",
      "source": [
        "(X_train,Y_train),(X_test,Y_test)=mnist.load_data()"
      ],
      "metadata": {
        "id": "pVwtrYwD7X0N"
      },
      "execution_count": 59,
      "outputs": []
    },
    {
      "cell_type": "code",
      "source": [
        "type(X_train)"
      ],
      "metadata": {
        "colab": {
          "base_uri": "https://localhost:8080/"
        },
        "id": "bbwgM_yL8U-z",
        "outputId": "a19591d3-6e1b-43a5-9c93-0a7ca5986069"
      },
      "execution_count": 60,
      "outputs": [
        {
          "output_type": "execute_result",
          "data": {
            "text/plain": [
              "numpy.ndarray"
            ]
          },
          "metadata": {},
          "execution_count": 60
        }
      ]
    },
    {
      "cell_type": "code",
      "source": [
        "# Shape of the numpy array\n",
        "print(X_train.shape,Y_train.shape,X_test.shape,Y_test.shape)"
      ],
      "metadata": {
        "colab": {
          "base_uri": "https://localhost:8080/"
        },
        "id": "DC_Ukf_W8cA8",
        "outputId": "ff4290e0-8e3a-407f-b5ae-5bd8db919e5c"
      },
      "execution_count": 61,
      "outputs": [
        {
          "output_type": "stream",
          "name": "stdout",
          "text": [
            "(60000, 28, 28) (60000,) (10000, 28, 28) (10000,)\n"
          ]
        }
      ]
    },
    {
      "cell_type": "markdown",
      "source": [
        "Training data size=60,000Images \\\\\n",
        "Test data size=10,000Images\n",
        "\n",
        "---\n",
        "Image dimension = 28 x 28 \\\\\n",
        "Grayscale image = 1 Channel\n"
      ],
      "metadata": {
        "id": "B_TCs80D87ot"
      }
    },
    {
      "cell_type": "code",
      "source": [
        "# printing the 5th image from X_train\n",
        "print(X_train[4])"
      ],
      "metadata": {
        "colab": {
          "base_uri": "https://localhost:8080/"
        },
        "id": "iq4zgMm-8mIA",
        "outputId": "9d9a8aa2-32ff-4e91-88be-8ae7df20a19b"
      },
      "execution_count": 62,
      "outputs": [
        {
          "output_type": "stream",
          "name": "stdout",
          "text": [
            "[[  0   0   0   0   0   0   0   0   0   0   0   0   0   0   0   0   0   0\n",
            "    0   0   0   0   0   0   0   0   0   0]\n",
            " [  0   0   0   0   0   0   0   0   0   0   0   0   0   0   0   0   0   0\n",
            "    0   0   0   0   0   0   0   0   0   0]\n",
            " [  0   0   0   0   0   0   0   0   0   0   0   0   0   0   0   0   0   0\n",
            "    0   0   0   0   0   0   0   0   0   0]\n",
            " [  0   0   0   0   0   0   0   0   0   0   0   0   0   0   0   0   0   0\n",
            "    0   0   0   0   0   0   0   0   0   0]\n",
            " [  0   0   0   0   0   0   0   0   0   0   0   0   0   0   0   0   0   0\n",
            "    0   0   0   0   0   0   0   0   0   0]\n",
            " [  0   0   0   0   0   0   0   0   0   0   0   0   0   0   0   0   0   0\n",
            "    0   0   0   0   0   0   0   0   0   0]\n",
            " [  0   0   0   0   0   0   0   0   0   0   0   0   0   0   0   0   0   0\n",
            "    0   0   0   0   0   0   0   0   0   0]\n",
            " [  0   0   0   0   0   0   0   0   0   0   0   0  55 148 210 253 253 113\n",
            "   87 148  55   0   0   0   0   0   0   0]\n",
            " [  0   0   0   0   0   0   0   0   0   0   0  87 232 252 253 189 210 252\n",
            "  252 253 168   0   0   0   0   0   0   0]\n",
            " [  0   0   0   0   0   0   0   0   0   4  57 242 252 190  65   5  12 182\n",
            "  252 253 116   0   0   0   0   0   0   0]\n",
            " [  0   0   0   0   0   0   0   0   0  96 252 252 183  14   0   0  92 252\n",
            "  252 225  21   0   0   0   0   0   0   0]\n",
            " [  0   0   0   0   0   0   0   0 132 253 252 146  14   0   0   0 215 252\n",
            "  252  79   0   0   0   0   0   0   0   0]\n",
            " [  0   0   0   0   0   0   0 126 253 247 176   9   0   0   8  78 245 253\n",
            "  129   0   0   0   0   0   0   0   0   0]\n",
            " [  0   0   0   0   0   0  16 232 252 176   0   0   0  36 201 252 252 169\n",
            "   11   0   0   0   0   0   0   0   0   0]\n",
            " [  0   0   0   0   0   0  22 252 252  30  22 119 197 241 253 252 251  77\n",
            "    0   0   0   0   0   0   0   0   0   0]\n",
            " [  0   0   0   0   0   0  16 231 252 253 252 252 252 226 227 252 231   0\n",
            "    0   0   0   0   0   0   0   0   0   0]\n",
            " [  0   0   0   0   0   0   0  55 235 253 217 138  42  24 192 252 143   0\n",
            "    0   0   0   0   0   0   0   0   0   0]\n",
            " [  0   0   0   0   0   0   0   0   0   0   0   0   0  62 255 253 109   0\n",
            "    0   0   0   0   0   0   0   0   0   0]\n",
            " [  0   0   0   0   0   0   0   0   0   0   0   0   0  71 253 252  21   0\n",
            "    0   0   0   0   0   0   0   0   0   0]\n",
            " [  0   0   0   0   0   0   0   0   0   0   0   0   0   0 253 252  21   0\n",
            "    0   0   0   0   0   0   0   0   0   0]\n",
            " [  0   0   0   0   0   0   0   0   0   0   0   0   0  71 253 252  21   0\n",
            "    0   0   0   0   0   0   0   0   0   0]\n",
            " [  0   0   0   0   0   0   0   0   0   0   0   0   0 106 253 252  21   0\n",
            "    0   0   0   0   0   0   0   0   0   0]\n",
            " [  0   0   0   0   0   0   0   0   0   0   0   0   0  45 255 253  21   0\n",
            "    0   0   0   0   0   0   0   0   0   0]\n",
            " [  0   0   0   0   0   0   0   0   0   0   0   0   0   0 218 252  56   0\n",
            "    0   0   0   0   0   0   0   0   0   0]\n",
            " [  0   0   0   0   0   0   0   0   0   0   0   0   0   0  96 252 189  42\n",
            "    0   0   0   0   0   0   0   0   0   0]\n",
            " [  0   0   0   0   0   0   0   0   0   0   0   0   0   0  14 184 252 170\n",
            "   11   0   0   0   0   0   0   0   0   0]\n",
            " [  0   0   0   0   0   0   0   0   0   0   0   0   0   0   0  14 147 252\n",
            "   42   0   0   0   0   0   0   0   0   0]\n",
            " [  0   0   0   0   0   0   0   0   0   0   0   0   0   0   0   0   0   0\n",
            "    0   0   0   0   0   0   0   0   0   0]]\n"
          ]
        }
      ]
    },
    {
      "cell_type": "code",
      "source": [
        "print(X_train[4].shape)"
      ],
      "metadata": {
        "colab": {
          "base_uri": "https://localhost:8080/"
        },
        "id": "cDww1JEh9hR5",
        "outputId": "f3dcd08e-e3ce-48b3-f323-b50870b1bd7c"
      },
      "execution_count": 63,
      "outputs": [
        {
          "output_type": "stream",
          "name": "stdout",
          "text": [
            "(28, 28)\n"
          ]
        }
      ]
    },
    {
      "cell_type": "code",
      "source": [
        "# displaying the 5th image\n",
        "plt.imshow(X_train[4])\n",
        "plt.show()\n",
        "\n",
        "# printing the corresponding label\n",
        "print(Y_train[4])"
      ],
      "metadata": {
        "colab": {
          "base_uri": "https://localhost:8080/",
          "height": 448
        },
        "id": "W5KQkEOp9nzM",
        "outputId": "5f2d292d-31b5-4b02-fe30-5333d525293a"
      },
      "execution_count": 64,
      "outputs": [
        {
          "output_type": "display_data",
          "data": {
            "text/plain": [
              "<Figure size 640x480 with 1 Axes>"
            ],
            "image/png": "[encoded data removed]"
          },
          "metadata": {}
        },
        {
          "output_type": "stream",
          "name": "stdout",
          "text": [
            "9\n"
          ]
        }
      ]
    },
    {
      "cell_type": "markdown",
      "source": [
        "Image Labels"
      ],
      "metadata": {
        "id": "zHxiJMna-Lv-"
      }
    },
    {
      "cell_type": "code",
      "source": [
        "print(Y_train.shape,Y_test.shape)"
      ],
      "metadata": {
        "colab": {
          "base_uri": "https://localhost:8080/"
        },
        "id": "JWq9MRia988e",
        "outputId": "5a19a05f-01d9-4849-874d-d7847fa4bc6e"
      },
      "execution_count": 65,
      "outputs": [
        {
          "output_type": "stream",
          "name": "stdout",
          "text": [
            "(60000,) (10000,)\n"
          ]
        }
      ]
    },
    {
      "cell_type": "code",
      "source": [
        "# unique values in Y_train\n",
        "print(np.unique(Y_train))\n",
        "\n",
        "# unique values in Y_test\n",
        "print(np.unique(Y_test))"
      ],
      "metadata": {
        "colab": {
          "base_uri": "https://localhost:8080/"
        },
        "id": "YHdAC2k4-QFW",
        "outputId": "dc8c0ecd-0154-4805-e34f-9bcbf1032911"
      },
      "execution_count": 66,
      "outputs": [
        {
          "output_type": "stream",
          "name": "stdout",
          "text": [
            "[0 1 2 3 4 5 6 7 8 9]\n",
            "[0 1 2 3 4 5 6 7 8 9]\n"
          ]
        }
      ]
    },
    {
      "cell_type": "markdown",
      "source": [
        "These labels can be used as such or can also by applied One Hot Encoding"
      ],
      "metadata": {
        "id": "14oviD8z-klR"
      }
    },
    {
      "cell_type": "markdown",
      "source": [
        "All the images have the same dimensions in this dataset, if not we have to resize the images to a common dimension\n"
      ],
      "metadata": {
        "id": "z-VySq0N-0C7"
      }
    },
    {
      "cell_type": "code",
      "source": [
        "# scaling the values\n",
        "X_train_scaled=X_train/255\n",
        "X_test_scaled=X_test/255"
      ],
      "metadata": {
        "id": "aMK5AsXs-Z27"
      },
      "execution_count": 67,
      "outputs": []
    },
    {
      "cell_type": "code",
      "source": [
        "# printing the 5th images using scaled dataset\n",
        "print(X_train_scaled[4])"
      ],
      "metadata": {
        "colab": {
          "base_uri": "https://localhost:8080/"
        },
        "id": "_gooftGC_c5Z",
        "outputId": "15807967-462c-4ffd-d4f4-6b85a4335250"
      },
      "execution_count": 68,
      "outputs": [
        {
          "output_type": "stream",
          "name": "stdout",
          "text": [
            "[[0.         0.         0.         0.         0.         0.\n",
            "  0.         0.         0.         0.         0.         0.\n",
            "  0.         0.         0.         0.         0.         0.\n",
            "  0.         0.         0.         0.         0.         0.\n",
            "  0.         0.         0.         0.        ]\n",
            " [0.         0.         0.         0.         0.         0.\n",
            "  0.         0.         0.         0.         0.         0.\n",
            "  0.         0.         0.         0.         0.         0.\n",
            "  0.         0.         0.         0.         0.         0.\n",
            "  0.         0.         0.         0.        ]\n",
            " [0.         0.         0.         0.         0.         0.\n",
            "  0.         0.         0.         0.         0.         0.\n",
            "  0.         0.         0.         0.         0.         0.\n",
            "  0.         0.         0.         0.         0.         0.\n",
            "  0.         0.         0.         0.        ]\n",
            " [0.         0.         0.         0.         0.         0.\n",
            "  0.         0.         0.         0.         0.         0.\n",
            "  0.         0.         0.         0.         0.         0.\n",
            "  0.         0.         0.         0.         0.         0.\n",
            "  0.         0.         0.         0.        ]\n",
            " [0.         0.         0.         0.         0.         0.\n",
            "  0.         0.         0.         0.         0.         0.\n",
            "  0.         0.         0.         0.         0.         0.\n",
            "  0.         0.         0.         0.         0.         0.\n",
            "  0.         0.         0.         0.        ]\n",
            " [0.         0.         0.         0.         0.         0.\n",
            "  0.         0.         0.         0.         0.         0.\n",
            "  0.         0.         0.         0.         0.         0.\n",
            "  0.         0.         0.         0.         0.         0.\n",
            "  0.         0.         0.         0.        ]\n",
            " [0.         0.         0.         0.         0.         0.\n",
            "  0.         0.         0.         0.         0.         0.\n",
            "  0.         0.         0.         0.         0.         0.\n",
            "  0.         0.         0.         0.         0.         0.\n",
            "  0.         0.         0.         0.        ]\n",
            " [0.         0.         0.         0.         0.         0.\n",
            "  0.         0.         0.         0.         0.         0.\n",
            "  0.21568627 0.58039216 0.82352941 0.99215686 0.99215686 0.44313725\n",
            "  0.34117647 0.58039216 0.21568627 0.         0.         0.\n",
            "  0.         0.         0.         0.        ]\n",
            " [0.         0.         0.         0.         0.         0.\n",
            "  0.         0.         0.         0.         0.         0.34117647\n",
            "  0.90980392 0.98823529 0.99215686 0.74117647 0.82352941 0.98823529\n",
            "  0.98823529 0.99215686 0.65882353 0.         0.         0.\n",
            "  0.         0.         0.         0.        ]\n",
            " [0.         0.         0.         0.         0.         0.\n",
            "  0.         0.         0.         0.01568627 0.22352941 0.94901961\n",
            "  0.98823529 0.74509804 0.25490196 0.01960784 0.04705882 0.71372549\n",
            "  0.98823529 0.99215686 0.45490196 0.         0.         0.\n",
            "  0.         0.         0.         0.        ]\n",
            " [0.         0.         0.         0.         0.         0.\n",
            "  0.         0.         0.         0.37647059 0.98823529 0.98823529\n",
            "  0.71764706 0.05490196 0.         0.         0.36078431 0.98823529\n",
            "  0.98823529 0.88235294 0.08235294 0.         0.         0.\n",
            "  0.         0.         0.         0.        ]\n",
            " [0.         0.         0.         0.         0.         0.\n",
            "  0.         0.         0.51764706 0.99215686 0.98823529 0.57254902\n",
            "  0.05490196 0.         0.         0.         0.84313725 0.98823529\n",
            "  0.98823529 0.30980392 0.         0.         0.         0.\n",
            "  0.         0.         0.         0.        ]\n",
            " [0.         0.         0.         0.         0.         0.\n",
            "  0.         0.49411765 0.99215686 0.96862745 0.69019608 0.03529412\n",
            "  0.         0.         0.03137255 0.30588235 0.96078431 0.99215686\n",
            "  0.50588235 0.         0.         0.         0.         0.\n",
            "  0.         0.         0.         0.        ]\n",
            " [0.         0.         0.         0.         0.         0.\n",
            "  0.0627451  0.90980392 0.98823529 0.69019608 0.         0.\n",
            "  0.         0.14117647 0.78823529 0.98823529 0.98823529 0.6627451\n",
            "  0.04313725 0.         0.         0.         0.         0.\n",
            "  0.         0.         0.         0.        ]\n",
            " [0.         0.         0.         0.         0.         0.\n",
            "  0.08627451 0.98823529 0.98823529 0.11764706 0.08627451 0.46666667\n",
            "  0.77254902 0.94509804 0.99215686 0.98823529 0.98431373 0.30196078\n",
            "  0.         0.         0.         0.         0.         0.\n",
            "  0.         0.         0.         0.        ]\n",
            " [0.         0.         0.         0.         0.         0.\n",
            "  0.0627451  0.90588235 0.98823529 0.99215686 0.98823529 0.98823529\n",
            "  0.98823529 0.88627451 0.89019608 0.98823529 0.90588235 0.\n",
            "  0.         0.         0.         0.         0.         0.\n",
            "  0.         0.         0.         0.        ]\n",
            " [0.         0.         0.         0.         0.         0.\n",
            "  0.         0.21568627 0.92156863 0.99215686 0.85098039 0.54117647\n",
            "  0.16470588 0.09411765 0.75294118 0.98823529 0.56078431 0.\n",
            "  0.         0.         0.         0.         0.         0.\n",
            "  0.         0.         0.         0.        ]\n",
            " [0.         0.         0.         0.         0.         0.\n",
            "  0.         0.         0.         0.         0.         0.\n",
            "  0.         0.24313725 1.         0.99215686 0.42745098 0.\n",
            "  0.         0.         0.         0.         0.         0.\n",
            "  0.         0.         0.         0.        ]\n",
            " [0.         0.         0.         0.         0.         0.\n",
            "  0.         0.         0.         0.         0.         0.\n",
            "  0.         0.27843137 0.99215686 0.98823529 0.08235294 0.\n",
            "  0.         0.         0.         0.         0.         0.\n",
            "  0.         0.         0.         0.        ]\n",
            " [0.         0.         0.         0.         0.         0.\n",
            "  0.         0.         0.         0.         0.         0.\n",
            "  0.         0.         0.99215686 0.98823529 0.08235294 0.\n",
            "  0.         0.         0.         0.         0.         0.\n",
            "  0.         0.         0.         0.        ]\n",
            " [0.         0.         0.         0.         0.         0.\n",
            "  0.         0.         0.         0.         0.         0.\n",
            "  0.         0.27843137 0.99215686 0.98823529 0.08235294 0.\n",
            "  0.         0.         0.         0.         0.         0.\n",
            "  0.         0.         0.         0.        ]\n",
            " [0.         0.         0.         0.         0.         0.\n",
            "  0.         0.         0.         0.         0.         0.\n",
            "  0.         0.41568627 0.99215686 0.98823529 0.08235294 0.\n",
            "  0.         0.         0.         0.         0.         0.\n",
            "  0.         0.         0.         0.        ]\n",
            " [0.         0.         0.         0.         0.         0.\n",
            "  0.         0.         0.         0.         0.         0.\n",
            "  0.         0.17647059 1.         0.99215686 0.08235294 0.\n",
            "  0.         0.         0.         0.         0.         0.\n",
            "  0.         0.         0.         0.        ]\n",
            " [0.         0.         0.         0.         0.         0.\n",
            "  0.         0.         0.         0.         0.         0.\n",
            "  0.         0.         0.85490196 0.98823529 0.21960784 0.\n",
            "  0.         0.         0.         0.         0.         0.\n",
            "  0.         0.         0.         0.        ]\n",
            " [0.         0.         0.         0.         0.         0.\n",
            "  0.         0.         0.         0.         0.         0.\n",
            "  0.         0.         0.37647059 0.98823529 0.74117647 0.16470588\n",
            "  0.         0.         0.         0.         0.         0.\n",
            "  0.         0.         0.         0.        ]\n",
            " [0.         0.         0.         0.         0.         0.\n",
            "  0.         0.         0.         0.         0.         0.\n",
            "  0.         0.         0.05490196 0.72156863 0.98823529 0.66666667\n",
            "  0.04313725 0.         0.         0.         0.         0.\n",
            "  0.         0.         0.         0.        ]\n",
            " [0.         0.         0.         0.         0.         0.\n",
            "  0.         0.         0.         0.         0.         0.\n",
            "  0.         0.         0.         0.05490196 0.57647059 0.98823529\n",
            "  0.16470588 0.         0.         0.         0.         0.\n",
            "  0.         0.         0.         0.        ]\n",
            " [0.         0.         0.         0.         0.         0.\n",
            "  0.         0.         0.         0.         0.         0.\n",
            "  0.         0.         0.         0.         0.         0.\n",
            "  0.         0.         0.         0.         0.         0.\n",
            "  0.         0.         0.         0.        ]]\n"
          ]
        }
      ]
    },
    {
      "cell_type": "markdown",
      "source": [
        "**Building the Neural Network**"
      ],
      "metadata": {
        "id": "4CMc5g1u__kw"
      }
    },
    {
      "cell_type": "code",
      "source": [
        "# Setting up the layers of the Neural Network\n",
        "model=keras.Sequential([\n",
        "    keras.layers.Flatten(input_shape=(28,28)),\n",
        "    keras.layers.Dense(50,activation='relu'),\n",
        "    keras.layers.Dense(50,activation='relu'),\n",
        "    keras.layers.Dense(10,activation='sigmoid')\n",
        "])"
      ],
      "metadata": {
        "colab": {
          "base_uri": "https://localhost:8080/"
        },
        "id": "bgg7l-c6_2Jj",
        "outputId": "cc33dfbe-3d4d-4077-980c-6d34d6a18cba"
      },
      "execution_count": 69,
      "outputs": [
        {
          "output_type": "stream",
          "name": "stderr",
          "text": [
            "/usr/local/lib/python3.11/dist-packages/keras/src/layers/reshaping/flatten.py:37: UserWarning: Do not pass an `input_shape`/`input_dim` argument to a layer. When using Sequential models, prefer using an `Input(shape)` object as the first layer in the model instead.\n",
            "  super().__init__(**kwargs)\n"
          ]
        }
      ]
    },
    {
      "cell_type": "code",
      "source": [
        "# compiling the Neural Network model\n",
        "model.compile(optimizer='adam',\n",
        "              loss='sparse_categorical_crossentropy',\n",
        "              metrics=['accuracy'])"
      ],
      "metadata": {
        "id": "_88tFneBBY41"
      },
      "execution_count": 70,
      "outputs": []
    },
    {
      "cell_type": "code",
      "source": [
        "# training the NN model\n",
        "model.fit(X_train_scaled,Y_train,epochs=10)"
      ],
      "metadata": {
        "colab": {
          "base_uri": "https://localhost:8080/"
        },
        "id": "1g9vWaFoCFPa",
        "outputId": "4505ee06-b47b-484e-a23f-6dd5057e48d1"
      },
      "execution_count": 101,
      "outputs": [
        {
          "output_type": "stream",
          "name": "stdout",
          "text": [
            "Epoch 1/10\n",
            "\u001b[1m1875/1875\u001b[0m \u001b[32m━━━━━━━━━━━━━━━━━━━━\u001b[0m\u001b[37m\u001b[0m \u001b[1m4s\u001b[0m 2ms/step - accuracy: 0.8054 - loss: 0.5818\n",
            "Epoch 2/10\n",
            "\u001b[1m1875/1875\u001b[0m \u001b[32m━━━━━━━━━━━━━━━━━━━━\u001b[0m\u001b[37m\u001b[0m \u001b[1m3s\u001b[0m 2ms/step - accuracy: 0.9753 - loss: 0.0819\n",
            "Epoch 3/10\n",
            "\u001b[1m1875/1875\u001b[0m \u001b[32m━━━━━━━━━━━━━━━━━━━━\u001b[0m\u001b[37m\u001b[0m \u001b[1m6s\u001b[0m 2ms/step - accuracy: 0.9800 - loss: 0.0681\n",
            "Epoch 4/10\n",
            "\u001b[1m1875/1875\u001b[0m \u001b[32m━━━━━━━━━━━━━━━━━━━━\u001b[0m\u001b[37m\u001b[0m \u001b[1m4s\u001b[0m 2ms/step - accuracy: 0.9835 - loss: 0.0564\n",
            "Epoch 5/10\n",
            "\u001b[1m1875/1875\u001b[0m \u001b[32m━━━━━━━━━━━━━━━━━━━━\u001b[0m\u001b[37m\u001b[0m \u001b[1m3s\u001b[0m 2ms/step - accuracy: 0.9855 - loss: 0.0477\n",
            "Epoch 6/10\n",
            "\u001b[1m1875/1875\u001b[0m \u001b[32m━━━━━━━━━━━━━━━━━━━━\u001b[0m\u001b[37m\u001b[0m \u001b[1m5s\u001b[0m 2ms/step - accuracy: 0.9886 - loss: 0.0405\n",
            "Epoch 7/10\n",
            "\u001b[1m1875/1875\u001b[0m \u001b[32m━━━━━━━━━━━━━━━━━━━━\u001b[0m\u001b[37m\u001b[0m \u001b[1m5s\u001b[0m 2ms/step - accuracy: 0.9890 - loss: 0.0374\n",
            "Epoch 8/10\n",
            "\u001b[1m1875/1875\u001b[0m \u001b[32m━━━━━━━━━━━━━━━━━━━━\u001b[0m\u001b[37m\u001b[0m \u001b[1m6s\u001b[0m 2ms/step - accuracy: 0.9902 - loss: 0.0331\n",
            "Epoch 9/10\n",
            "\u001b[1m1875/1875\u001b[0m \u001b[32m━━━━━━━━━━━━━━━━━━━━\u001b[0m\u001b[37m\u001b[0m \u001b[1m4s\u001b[0m 2ms/step - accuracy: 0.9910 - loss: 0.0301\n",
            "Epoch 10/10\n",
            "\u001b[1m1875/1875\u001b[0m \u001b[32m━━━━━━━━━━━━━━━━━━━━\u001b[0m\u001b[37m\u001b[0m \u001b[1m5s\u001b[0m 2ms/step - accuracy: 0.9924 - loss: 0.0252\n"
          ]
        },
        {
          "output_type": "execute_result",
          "data": {
            "text/plain": [
              "<keras.src.callbacks.history.History at 0x7e679357b250>"
            ]
          },
          "metadata": {},
          "execution_count": 101
        }
      ]
    },
    {
      "cell_type": "markdown",
      "source": [
        "Training data accuracy= 95.52%"
      ],
      "metadata": {
        "id": "hIjqnSrKC7Ta"
      }
    },
    {
      "cell_type": "markdown",
      "source": [
        "**Accuracy on Test Data:**"
      ],
      "metadata": {
        "id": "Pn7OTG3WDC4d"
      }
    },
    {
      "cell_type": "code",
      "source": [
        "loss,accuracy=model.evaluate(X_test,Y_test)\n",
        "print(loss)\n",
        "print(accuracy)"
      ],
      "metadata": {
        "colab": {
          "base_uri": "https://localhost:8080/"
        },
        "id": "sp2ZbCC6CYWq",
        "outputId": "9d02d4ea-086f-4b06-d4c3-58187cb0addf"
      },
      "execution_count": 102,
      "outputs": [
        {
          "output_type": "stream",
          "name": "stdout",
          "text": [
            "\u001b[1m313/313\u001b[0m \u001b[32m━━━━━━━━━━━━━━━━━━━━\u001b[0m\u001b[37m\u001b[0m \u001b[1m0s\u001b[0m 1ms/step - accuracy: 0.9454 - loss: 41.7081\n",
            "34.275814056396484\n",
            "0.9537000060081482\n"
          ]
        }
      ]
    },
    {
      "cell_type": "markdown",
      "source": [
        "Test Data Accuracy=94.69%"
      ],
      "metadata": {
        "id": "MLa5vPadDbqr"
      }
    },
    {
      "cell_type": "code",
      "source": [
        "print(X_test.shape)"
      ],
      "metadata": {
        "colab": {
          "base_uri": "https://localhost:8080/"
        },
        "id": "ITC7PZn8DVp1",
        "outputId": "988376b8-23dc-4650-9cfe-80958fed6c13"
      },
      "execution_count": 103,
      "outputs": [
        {
          "output_type": "stream",
          "name": "stdout",
          "text": [
            "(10000, 28, 28)\n"
          ]
        }
      ]
    },
    {
      "cell_type": "code",
      "source": [
        "# Display the first data point in X_test\n",
        "plt.imshow(X_test[0])"
      ],
      "metadata": {
        "colab": {
          "base_uri": "https://localhost:8080/",
          "height": 448
        },
        "id": "2WKAdZG0DlGy",
        "outputId": "ca2d28c5-cd08-40fa-844e-ee7027686c55"
      },
      "execution_count": 74,
      "outputs": [
        {
          "output_type": "execute_result",
          "data": {
            "text/plain": [
              "<matplotlib.image.AxesImage at 0x7e67a2297810>"
            ]
          },
          "metadata": {},
          "execution_count": 74
        },
        {
          "output_type": "display_data",
          "data": {
            "text/plain": [
              "<Figure size 640x480 with 1 Axes>"
            ],
            "image/png": "[encoded data removed]"
          },
          "metadata": {}
        }
      ]
    },
    {
      "cell_type": "code",
      "source": [
        "print(Y_test[0])"
      ],
      "metadata": {
        "colab": {
          "base_uri": "https://localhost:8080/"
        },
        "id": "Jxm2RgWKDtnT",
        "outputId": "d395c375-a93a-4741-fd28-8b1aec4ed473"
      },
      "execution_count": 104,
      "outputs": [
        {
          "output_type": "stream",
          "name": "stdout",
          "text": [
            "7\n"
          ]
        }
      ]
    },
    {
      "cell_type": "code",
      "source": [
        "Y_predict=model.predict(X_test)"
      ],
      "metadata": {
        "colab": {
          "base_uri": "https://localhost:8080/"
        },
        "id": "xBeO8FyCD0Y8",
        "outputId": "dedd3158-8cd1-4bef-dc34-3234b3ca6684"
      },
      "execution_count": 105,
      "outputs": [
        {
          "output_type": "stream",
          "name": "stdout",
          "text": [
            "\u001b[1m313/313\u001b[0m \u001b[32m━━━━━━━━━━━━━━━━━━━━\u001b[0m\u001b[37m\u001b[0m \u001b[1m1s\u001b[0m 2ms/step\n"
          ]
        }
      ]
    },
    {
      "cell_type": "code",
      "source": [
        "print(Y_predict.shape)"
      ],
      "metadata": {
        "colab": {
          "base_uri": "https://localhost:8080/"
        },
        "id": "jFk6wRBoECaf",
        "outputId": "563e39a8-ec51-4043-c3ce-3c7703b77193"
      },
      "execution_count": 106,
      "outputs": [
        {
          "output_type": "stream",
          "name": "stdout",
          "text": [
            "(10000, 10)\n"
          ]
        }
      ]
    },
    {
      "cell_type": "code",
      "source": [
        "print(Y_predict[0])"
      ],
      "metadata": {
        "colab": {
          "base_uri": "https://localhost:8080/"
        },
        "id": "FE18xcVsEFjP",
        "outputId": "4d7e372f-c71c-455a-884c-2e2787eb7bff"
      },
      "execution_count": 107,
      "outputs": [
        {
          "output_type": "stream",
          "name": "stdout",
          "text": [
            "[0. 0. 0. 0. 0. 0. 0. 1. 0. 0.]\n"
          ]
        }
      ]
    },
    {
      "cell_type": "markdown",
      "source": [
        "model.predict() gives the prediction probability of each class for that data point"
      ],
      "metadata": {
        "id": "s6IXajvPEdMj"
      }
    },
    {
      "cell_type": "code",
      "source": [
        "# converting the prediction probability to class label\n",
        "first_image_label=np.argmax(Y_predict[0])\n",
        "print(first_image_label)"
      ],
      "metadata": {
        "colab": {
          "base_uri": "https://localhost:8080/"
        },
        "id": "MjuIyNuPEIZw",
        "outputId": "9fa8abb5-0543-4de9-a83b-08f7c51652df"
      },
      "execution_count": 108,
      "outputs": [
        {
          "output_type": "stream",
          "name": "stdout",
          "text": [
            "7\n"
          ]
        }
      ]
    },
    {
      "cell_type": "code",
      "source": [
        "# converting the prediction probability to class label for all test data point\n",
        "Y_predict_labels=[np.argmax(i) for i in Y_predict]\n",
        "print(Y_predict_labels)"
      ],
      "metadata": {
        "colab": {
          "base_uri": "https://localhost:8080/"
        },
        "id": "Vs2E3MMPE1N7",
        "outputId": "c5ad8dc8-60a9-406e-bc66-435ba08bd3fe"
      },
      "execution_count": 109,
      "outputs": [
        {
          "output_type": "stream",
          "name": "stdout",
          "text": [
            "[7, 2, 1, 0, 4, 1, 4, 9, 5, 9, 0, 6, 9, 0, 1, 3, 9, 7, 3, 4, 9, 5, 6, 5, 4, 0, 7, 4, 0, 1, 3, 1, 3, 0, 7, 2, 7, 1, 1, 1, 1, 7, 4, 1, 3, 5, 1, 2, 4, 4, 6, 3, 5, 5, 6, 0, 4, 1, 9, 5, 7, 2, 5, 3, 3, 4, 6, 4, 3, 0, 0, 0, 2, 7, 1, 7, 3, 1, 9, 7, 7, 5, 2, 7, 8, 4, 7, 3, 6, 1, 3, 5, 4, 3, 1, 4, 1, 7, 5, 9, 6, 0, 5, 4, 5, 9, 2, 1, 9, 4, 8, 7, 3, 9, 7, 6, 4, 4, 9, 2, 3, 4, 7, 6, 7, 9, 0, 5, 8, 5, 5, 5, 5, 3, 8, 1, 0, 1, 6, 4, 5, 7, 3, 1, 7, 1, 8, 2, 0, 2, 9, 9, 5, 3, 1, 5, 6, 0, 3, 4, 4, 6, 5, 4, 6, 5, 4, 5, 1, 4, 4, 7, 2, 3, 2, 7, 1, 5, 1, 8, 1, 8, 5, 0, 8, 9, 2, 5, 0, 1, 1, 1, 0, 3, 0, 3, 1, 5, 4, 2, 3, 6, 1, 1, 1, 3, 5, 5, 2, 5, 4, 5, 9, 3, 9, 0, 3, 5, 5, 3, 7, 2, 2, 7, 1, 2, 8, 4, 1, 7, 3, 3, 5, 3, 3, 9, 2, 2, 4, 1, 3, 3, 8, 7, 2, 3, 0, 6, 4, 1, 4, 1, 9, 5, 7, 3, 2, 8, 2, 0, 8, 5, 7, 7, 8, 1, 0, 1, 8, 0, 3, 0, 1, 7, 3, 4, 1, 8, 2, 1, 2, 9, 3, 5, 9, 2, 5, 4, 0, 5, 5, 2, 9, 2, 0, 4, 0, 0, 2, 3, 4, 7, 1, 2, 4, 0, 2, 7, 4, 3, 3, 0, 0, 3, 1, 9, 5, 5, 2, 5, 7, 3, 5, 3, 0, 4, 2, 0, 7, 1, 1, 2, 1, 3, 3, 3, 9, 3, 0, 5, 3, 6, 1, 3, 5, 1, 0, 5, 1, 3, 1, 5, 3, 6, 1, 8, 5, 1, 7, 9, 4, 6, 0, 2, 5, 0, 6, 5, 5, 3, 3, 2, 0, 8, 8, 5, 4, 1, 1, 4, 0, 3, 3, 7, 5, 1, 5, 1, 1, 9, 2, 5, 6, 1, 9, 5, 2, 3, 4, 0, 2, 8, 3, 8, 2, 4, 5, 0, 3, 1, 7, 7, 3, 7, 9, 7, 1, 7, 2, 1, 2, 2, 9, 2, 0, 4, 9, 1, 4, 8, 1, 8, 4, 5, 3, 9, 8, 3, 7, 5, 0, 0, 3, 0, 2, 0, 5, 9, 3, 3, 3, 3, 2, 3, 9, 1, 2, 5, 8, 0, 5, 6, 6, 6, 3, 3, 8, 1, 7, 3, 8, 9, 6, 1, 8, 4, 1, 1, 5, 3, 1, 9, 7, 5, 4, 0, 8, 9, 9, 1, 0, 5, 2, 3, 7, 0, 9, 4, 0, 5, 3, 9, 3, 2, 1, 3, 1, 3, 5, 3, 7, 4, 2, 2, 6, 3, 2, 6, 5, 4, 8, 9, 3, 1, 3, 0, 3, 8, 3, 1, 9, 3, 4, 4, 5, 4, 1, 1, 8, 2, 3, 4, 8, 0, 4, 0, 0, 2, 3, 2, 7, 7, 0, 6, 7, 4, 4, 3, 9, 6, 9, 0, 9, 5, 0, 4, 6, 0, 5, 3, 3, 4, 8, 3, 3, 9, 3, 3, 3, 7, 8, 0, 2, 2, 1, 7, 0, 6, 5, 4, 3, 0, 0, 9, 5, 3, 8, 0, 9, 9, 5, 8, 6, 5, 5, 7, 5, 6, 0, 2, 6, 0, 2, 2, 3, 1, 9, 2, 3, 3, 0, 8, 4, 6, 2, 6, 7, 9, 3, 0, 5, 3, 2, 2, 9, 2, 7, 3, 5, 9, 1, 6, 0, 2, 0, 3, 1, 1, 3, 3, 5, 7, 1, 1, 5, 8, 0, 3, 0, 2, 4, 0, 9, 1, 8, 6, 7, 7, 4, 3, 4, 9, 1, 9, 3, 1, 7, 3, 9, 7, 6, 9, 1, 3, 3, 8, 3, 3, 5, 7, 2, 9, 3, 8, 5, 1, 1, 4, 4, 3, 1, 0, 7, 3, 0, 7, 9, 7, 4, 8, 3, 3, 4, 0, 8, 2, 1, 0, 8, 4, 0, 0, 4, 0, 5, 1, 7, 3, 2, 5, 7, 2, 6, 9, 3, 1, 4, 0, 2, 3, 4, 2, 0, 6, 2, 1, 7, 3, 4, 1, 0, 5, 4, 3, 1, 1, 7, 4, 9, 7, 4, 8, 4, 0, 2, 4, 5, 1, 1, 6, 4, 7, 1, 9, 4, 2, 4, 1, 5, 5, 3, 8, 3, 1, 4, 5, 5, 8, 9, 4, 1, 5, 3, 8, 0, 3, 2, 5, 1, 2, 0, 3, 4, 4, 0, 8, 8, 3, 3, 1, 3, 3, 5, 8, 6, 3, 2, 0, 1, 3, 6, 0, 7, 2, 1, 7, 1, 4, 2, 4, 2, 1, 7, 9, 6, 1, 1, 2, 4, 3, 1, 7, 7, 4, 0, 0, 0, 3, 1, 3, 1, 0, 7, 7, 0, 3, 5, 3, 2, 7, 6, 5, 9, 2, 8, 3, 5, 2, 2, 3, 5, 0, 8, 1, 9, 2, 8, 0, 0, 5, 7, 4, 0, 3, 0, 6, 6, 3, 1, 1, 3, 1, 2, 9, 3, 0, 0, 5, 7, 8, 3, 4, 4, 6, 0, 2, 9, 1, 4, 7, 4, 7, 3, 9, 8, 3, 4, 7, 1, 1, 1, 2, 2, 3, 2, 3, 2, 3, 9, 1, 7, 4, 0, 3, 5, 5, 5, 6, 3, 0, 5, 7, 5, 5, 3, 2, 7, 9, 1, 1, 7, 1, 6, 4, 9, 5, 0, 3, 3, 0, 7, 8, 9, 0, 1, 0, 9, 1, 4, 0, 5, 4, 0, 6, 2, 2, 3, 1, 3, 1, 2, 0, 3, 8, 1, 2, 5, 7, 1, 5, 2, 3, 9, 0, 1, 2, 2, 0, 8, 9, 9, 0, 2, 3, 1, 9, 7, 8, 1, 0, 4, 1, 7, 9, 5, 4, 2, 6, 8, 1, 3, 7, 5, 4, 4, 1, 8, 1, 3, 8, 1, 2, 5, 3, 0, 6, 2, 1, 1, 2, 1, 5, 3, 4, 6, 9, 3, 0, 9, 2, 2, 4, 8, 2, 1, 7, 2, 4, 9, 4, 4, 0, 3, 9, 2, 2, 3, 3, 8, 3, 5, 7, 3, 5, 8, 1, 1, 4, 4, 6, 4, 9, 3, 1, 0, 5, 9, 5, 9, 3, 9, 7, 3, 2, 0, 3, 7, 1, 3, 6, 7, 8, 5, 5, 7, 7, 6, 3, 5, 3, 7, 4, 6, 5, 3, 5, 4, 7, 8, 3, 8, 0, 7, 6, 7, 8, 7, 3, 3, 1, 9, 5, 2, 7, 3, 5, 1, 1, 2, 1, 4, 7, 4, 3, 5, 4, 3, 4, 0, 8, 3, 5, 9, 5, 0, 2, 5, 4, 4, 4, 4, 5, 6, 4, 7, 9, 3, 4, 5, 5, 8, 7, 3, 7, 2, 7, 0, 2, 6, 1, 1, 1, 5, 9, 2, 8, 7, 2, 0, 1, 3, 0, 9, 1, 3, 0, 5, 0, 8, 6, 8, 1, 6, 0, 3, 3, 7, 2, 3, 5, 2, 1, 5, 1, 1, 3, 7, 9, 0, 3, 0, 5, 4, 0, 2, 8, 2, 2, 3, 8, 4, 0, 6, 5, 5, 5, 1, 2, 1, 3, 0, 3, 9, 5, 7, 2, 0, 3, 3, 8, 6, 2, 5, 4, 1, 9, 0, 1, 5, 8, 0, 0, 2, 4, 4, 3, 6, 8, 8, 2, 4, 0, 5, 0, 4, 4, 7, 9, 3, 4, 1, 0, 9, 3, 3, 5, 6, 5, 0, 5, 3, 3, 5, 6, 0, 1, 5, 0, 3, 3, 4, 4, 1, 2, 9, 1, 4, 5, 9, 9, 3, 9, 8, 4, 4, 3, 1, 3, 1, 0, 8, 7, 9, 4, 8, 8, 7, 9, 9, 1, 4, 3, 6, 0, 5, 2, 2, 2, 1, 3, 5, 2, 4, 9, 5, 2, 7, 7, 2, 2, 1, 1, 2, 8, 3, 7, 2, 4, 1, 7, 1, 7, 6, 7, 1, 1, 7, 3, 1, 7, 5, 8, 2, 6, 2, 2, 5, 5, 5, 0, 9, 2, 4, 3, 3, 3, 3, 6, 5, 8, 0, 1, 1, 3, 8, 2, 9, 1, 8, 0, 5, 7, 1, 1, 0, 5, 5, 2, 0, 2, 2, 0, 2, 4, 5, 8, 0, 9, 3, 4, 6, 5, 4, 9, 1, 0, 3, 4, 9, 9, 1, 2, 2, 0, 1, 9, 5, 1, 0, 9, 4, 8, 3, 8, 0, 0, 2, 5, 1, 9, 6, 2, 9, 4, 0, 9, 6, 0, 5, 2, 5, 4, 2, 3, 3, 0, 3, 5, 0, 3, 5, 5, 3, 5, 8, 6, 3, 7, 6, 3, 3, 3, 5, 1, 1, 2, 9, 0, 0, 3, 3, 6, 9, 5, 0, 3, 7, 7, 7, 8, 7, 9, 0, 3, 0, 7, 2, 7, 9, 4, 5, 4, 9, 3, 2, 1, 4, 0, 1, 3, 7, 5, 7, 5, 8, 5, 0, 3, 1, 4, 7, 3, 9, 0, 0, 0, 5, 6, 2, 3, 7, 8, 4, 3, 7, 9, 2, 4, 1, 6, 5, 2, 4, 3, 9, 1, 8, 4, 0, 3, 8, 4, 0, 7, 7, 0, 7, 8, 5, 0, 0, 4, 9, 8, 2, 4, 7, 6, 6, 5, 4, 7, 1, 3, 8, 2, 3, 5, 3, 0, 0, 3, 7, 6, 9, 7, 9, 9, 5, 4, 3, 3, 6, 1, 2, 3, 7, 3, 3, 0, 0, 3, 3, 8, 4, 3, 0, 3, 5, 0, 2, 0, 9, 0, 7, 4, 6, 2, 3, 5, 1, 9, 5, 1, 4, 5, 4, 3, 0, 5, 7, 5, 2, 1, 2, 9, 1, 9, 4, 4, 0, 8, 4, 3, 2, 9, 2, 1, 2, 1, 7, 3, 5, 8, 8, 4, 9, 1, 9, 8, 3, 3, 3, 1, 1, 8, 5, 5, 0, 4, 4, 3, 2, 3, 5, 6, 5, 8, 6, 2, 3, 1, 0, 5, 3, 7, 2, 9, 6, 7, 0, 4, 5, 7, 1, 7, 4, 1, 0, 3, 7, 2, 0, 0, 9, 1, 7, 0, 3, 8, 4, 7, 2, 0, 4, 5, 0, 3, 1, 1, 3, 3, 3, 6, 7, 4, 1, 5, 3, 0, 0, 7, 3, 9, 5, 9, 3, 5, 0, 2, 7, 2, 5, 1, 2, 3, 5, 0, 8, 8, 1, 5, 0, 3, 0, 3, 1, 4, 0, 3, 7, 2, 7, 1, 3, 0, 7, 0, 4, 3, 1, 9, 9, 7, 7, 1, 4, 9, 9, 3, 2, 1, 7, 9, 0, 2, 0, 3, 3, 7, 2, 9, 2, 3, 3, 7, 7, 0, 0, 7, 5, 2, 9, 2, 7, 4, 4, 1, 5, 5, 1, 9, 5, 3, 2, 9, 0, 8, 3, 1, 1, 5, 3, 3, 1, 1, 1, 3, 1, 2, 3, 0, 2, 0, 1, 3, 5, 5, 7, 4, 0, 9, 6, 9, 6, 8, 3, 6, 5, 8, 3, 1, 4, 2, 4, 0, 5, 1, 1, 9, 0, 2, 4, 9, 5, 7, 1, 8, 0, 5, 0, 9, 8, 7, 1, 1, 5, 7, 6, 3, 2, 2, 0, 8, 9, 2, 5, 1, 0, 8, 1, 0, 5, 3, 9, 5, 9, 0, 6, 0, 5, 5, 8, 3, 8, 2, 5, 5, 0, 7, 4, 6, 1, 3, 4, 7, 3, 2, 3, 4, 2, 3, 2, 7, 1, 7, 2, 5, 6, 1, 5, 9, 8, 5, 0, 1, 8, 2, 5, 7, 7, 6, 3, 3, 5, 8, 4, 2, 4, 0, 8, 8, 3, 4, 9, 2, 7, 5, 0, 0, 3, 5, 0, 5, 5, 7, 3, 6, 4, 9, 4, 6, 5, 3, 0, 4, 1, 0, 1, 4, 5, 2, 9, 1, 1, 0, 5, 3, 9, 5, 6, 5, 5, 5, 5, 4, 6, 4, 3, 9, 1, 3, 4, 1, 9, 1, 2, 1, 0, 9, 3, 5, 4, 0, 7, 3, 6, 1, 7, 5, 5, 3, 3, 0, 1, 3, 7, 5, 8, 6, 5, 1, 0, 4, 3, 3, 4, 6, 7, 5, 0, 1, 8, 9, 7, 2, 8, 6, 2, 7, 0, 0, 6, 7, 5, 8, 6, 0, 9, 3, 7, 1, 3, 0, 4, 3, 3, 5, 5, 5, 3, 0, 2, 3, 4, 2, 3, 0, 9, 5, 4, 7, 2, 1, 4, 3, 0, 6, 0, 8, 5, 2, 8, 5, 7, 3, 0, 8, 2, 3, 2, 8, 2, 3, 3, 0, 5, 4, 0, 8, 4, 6, 2, 7, 4, 5, 2, 0, 3, 4, 9, 6, 7, 2, 5, 1, 1, 1, 2, 3, 6, 3, 8, 7, 6, 2, 8, 9, 4, 3, 5, 3, 8, 3, 1, 0, 6, 2, 2, 5, 5, 9, 5, 0, 1, 4, 1, 7, 8, 4, 6, 1, 8, 4, 3, 1, 2, 8, 0, 3, 5, 9, 1, 4, 2, 0, 2, 7, 0, 1, 0, 2, 3, 7, 5, 7, 9, 4, 2, 5, 2, 4, 4, 8, 0, 4, 4, 5, 8, 0, 6, 0, 9, 8, 5, 5, 9, 0, 4, 8, 7, 1, 3, 4, 5, 3, 0, 9, 1, 3, 3, 6, 9, 8, 7, 1, 0, 5, 7, 1, 7, 5, 2, 7, 9, 1, 8, 5, 2, 4, 9, 4, 7, 2, 2, 3, 4, 9, 1, 3, 2, 1, 7, 9, 4, 4, 3, 6, 7, 2, 7, 8, 0, 1, 9, 7, 1, 1, 7, 3, 3, 3, 5, 1, 3, 7, 0, 1, 3, 8, 7, 3, 5, 0, 0, 0, 1, 8, 0, 2, 3, 7, 1, 3, 0, 3, 4, 4, 3, 0, 3, 2, 3, 5, 3, 1, 1, 7, 0, 4, 9, 6, 5, 9, 1, 3, 0, 2, 0, 0, 4, 5, 7, 0, 7, 1, 4, 6, 4, 5, 4, 9, 9, 1, 7, 9, 5, 3, 3, 8, 2, 3, 6, 2, 2, 1, 1, 1, 1, 1, 5, 4, 0, 4, 3, 7, 1, 6, 4, 8, 0, 9, 7, 4, 2, 4, 0, 7, 0, 1, 0, 8, 8, 6, 0, 0, 1, 1, 5, 8, 2, 2, 3, 3, 2, 3, 2, 2, 1, 7, 5, 4, 4, 0, 4, 3, 4, 7, 3, 1, 0, 1, 1, 5, 7, 2, 1, 0, 1, 8, 9, 1, 6, 8, 3, 3, 4, 3, 5, 2, 8, 3, 2, 1, 1, 0, 4, 1, 9, 2, 4, 3, 7, 9, 1, 5, 2, 4, 9, 0, 3, 8, 5, 3, 5, 0, 9, 4, 6, 2, 5, 0, 0, 7, 1, 5, 6, 8, 6, 0, 8, 6, 9, 0, 7, 2, 5, 9, 9, 0, 7, 2, 7, 6, 7, 0, 6, 5, 2, 4, 7, 1, 0, 9, 9, 2, 2, 9, 4, 4, 2, 3, 3, 2, 1, 7, 0, 7, 6, 4, 1, 3, 8, 7, 0, 5, 9, 2, 5, 1, 5, 7, 3, 7, 1, 3, 3, 0, 9, 1, 4, 0, 6, 3, 3, 6, 0, 4, 9, 7, 5, 1, 0, 3, 7, 5, 5, 3, 9, 3, 0, 3, 8, 1, 5, 3, 5, 0, 5, 3, 3, 8, 5, 7, 7, 7, 3, 7, 0, 5, 9, 0, 1, 5, 5, 3, 1, 7, 7, 8, 6, 5, 5, 3, 8, 9, 3, 3, 7, 0, 1, 7, 0, 0, 3, 7, 2, 3, 2, 1, 8, 5, 1, 9, 3, 7, 5, 7, 8, 6, 2, 5, 1, 4, 8, 4, 3, 8, 3, 0, 5, 2, 7, 3, 3, 2, 1, 0, 3, 3, 4, 0, 3, 9, 3, 2, 5, 9, 0, 3, 8, 0, 7, 5, 5, 4, 7, 3, 0, 0, 8, 6, 1, 3, 1, 1, 0, 0, 4, 4, 0, 1, 2, 3, 2, 7, 7, 8, 5, 2, 5, 3, 5, 3, 1, 4, 1, 6, 4, 2, 4, 3, 5, 4, 3, 9, 5, 0, 1, 3, 3, 8, 9, 1, 9, 7, 9, 5, 5, 2, 7, 4, 0, 0, 1, 1, 1, 0, 4, 4, 7, 6, 3, 0, 0, 4, 3, 0, 6, 1, 9, 5, 1, 3, 5, 1, 2, 5, 6, 2, 7, 3, 6, 0, 1, 9, 7, 0, 6, 8, 3, 2, 9, 5, 8, 3, 1, 0, 0, 7, 5, 5, 2, 1, 0, 9, 3, 1, 0, 6, 4, 0, 5, 0, 0, 0, 6, 3, 5, 9, 3, 7, 5, 3, 8, 5, 3, 0, 4, 0, 2, 9, 5, 8, 2, 3, 1, 2, 1, 1, 3, 6, 9, 8, 0, 5, 6, 5, 5, 3, 8, 0, 2, 1, 4, 5, 4, 3, 7, 8, 3, 0, 9, 3, 5, 1, 1, 0, 4, 4, 7, 0, 1, 7, 0, 1, 6, 1, 4, 5, 6, 5, 3, 7, 5, 4, 1, 7, 2, 5, 3, 7, 0, 3, 7, 9, 5, 4, 1, 8, 3, 7, 8, 3, 9, 5, 8, 9, 9, 8, 5, 1, 8, 9, 2, 3, 6, 1, 1, 8, 9, 3, 4, 0, 7, 9, 5, 7, 1, 4, 1, 3, 4, 9, 3, 1, 4, 7, 7, 4, 7, 2, 9, 3, 0, 8, 0, 8, 4, 0, 4, 4, 1, 5, 2, 8, 3, 4, 9, 5, 1, 0, 1, 5, 3, 3, 9, 4, 2, 5, 6, 0, 5, 9, 3, 5, 9, 2, 1, 9, 5, 3, 0, 5, 9, 8, 4, 0, 0, 0, 2, 5, 0, 1, 0, 3, 1, 6, 5, 8, 1, 5, 3, 3, 0, 3, 3, 5, 9, 2, 0, 3, 0, 4, 9, 1, 9, 7, 7, 5, 3, 2, 0, 9, 1, 0, 6, 2, 3, 9, 6, 2, 1, 9, 1, 3, 5, 5, 0, 3, 8, 3, 3, 7, 6, 5, 0, 1, 4, 0, 5, 9, 8, 1, 2, 9, 9, 5, 9, 7, 3, 7, 8, 0, 1, 3, 0, 4, 6, 1, 0, 2, 5, 5, 4, 4, 1, 1, 5, 4, 0, 6, 0, 6, 9, 2, 6, 2, 7, 1, 7, 9, 4, 0, 0, 3, 8, 2, 2, 3, 1, 5, 0, 5, 7, 7, 9, 2, 6, 7, 5, 7, 0, 5, 5, 8, 4, 6, 8, 4, 1, 2, 8, 1, 3, 9, 4, 0, 3, 7, 3, 1, 3, 3, 7, 3, 4, 0, 5, 2, 0, 5, 1, 3, 3, 5, 4, 1, 7, 1, 5, 7, 5, 7, 3, 2, 2, 7, 3, 7, 3, 7, 8, 5, 4, 5, 2, 5, 6, 5, 3, 6, 2, 4, 1, 7, 1, 5, 2, 3, 0, 3, 1, 4, 2, 5, 7, 4, 3, 8, 0, 5, 2, 1, 6, 5, 3, 9, 1, 9, 3, 2, 1, 8, 4, 4, 5, 5, 8, 6, 9, 7, 7, 8, 6, 9, 7, 3, 9, 4, 0, 5, 9, 6, 4, 1, 2, 3, 0, 0, 2, 6, 6, 5, 7, 0, 8, 5, 4, 7, 9, 0, 7, 3, 4, 2, 1, 8, 8, 5, 9, 2, 7, 1, 8, 8, 3, 1, 3, 5, 0, 1, 2, 7, 1, 0, 8, 3, 5, 0, 5, 3, 6, 2, 8, 7, 0, 1, 4, 2, 1, 1, 4, 4, 4, 1, 7, 1, 5, 2, 9, 9, 0, 0, 1, 8, 5, 4, 3, 4, 6, 0, 5, 1, 5, 1, 2, 2, 2, 1, 2, 3, 7, 8, 1, 0, 0, 2, 1, 0, 6, 0, 1, 5, 2, 3, 1, 7, 4, 8, 2, 1, 4, 3, 8, 3, 9, 9, 4, 3, 3, 4, 7, 2, 7, 5, 2, 0, 4, 3, 3, 2, 6, 7, 6, 0, 0, 6, 7, 7, 0, 5, 5, 8, 1, 0, 7, 0, 2, 8, 1, 3, 0, 8, 0, 0, 3, 2, 7, 7, 2, 5, 4, 7, 5, 5, 5, 2, 9, 2, 8, 2, 5, 8, 5, 5, 0, 0, 8, 3, 5, 1, 3, 1, 1, 2, 7, 4, 0, 0, 7, 7, 5, 3, 8, 6, 4, 2, 0, 9, 4, 0, 3, 7, 8, 3, 7, 4, 7, 1, 1, 3, 5, 5, 0, 9, 1, 9, 4, 3, 3, 5, 5, 5, 9, 5, 2, 4, 5, 7, 7, 0, 5, 6, 0, 4, 8, 3, 5, 3, 4, 9, 0, 0, 3, 2, 5, 0, 7, 1, 1, 1, 0, 7, 5, 2, 9, 6, 6, 4, 1, 4, 3, 1, 1, 2, 1, 4, 1, 0, 8, 7, 5, 3, 4, 0, 0, 6, 3, 3, 0, 7, 1, 7, 1, 1, 3, 6, 0, 9, 9, 3, 5, 4, 1, 4, 5, 9, 5, 3, 5, 1, 9, 8, 2, 3, 3, 9, 9, 0, 1, 0, 2, 9, 3, 9, 3, 3, 6, 2, 9, 3, 8, 3, 7, 4, 0, 4, 7, 0, 4, 9, 8, 1, 3, 7, 5, 9, 1, 8, 2, 0, 0, 2, 2, 3, 5, 4, 5, 5, 0, 8, 1, 4, 6, 7, 9, 3, 3, 7, 4, 3, 1, 7, 4, 7, 0, 5, 9, 5, 0, 4, 2, 4, 4, 6, 1, 2, 3, 2, 5, 4, 5, 9, 5, 8, 5, 5, 0, 0, 6, 4, 1, 5, 6, 5, 2, 5, 4, 5, 5, 4, 7, 2, 0, 7, 8, 2, 1, 3, 1, 0, 1, 8, 0, 7, 1, 7, 8, 7, 5, 5, 9, 1, 7, 5, 4, 3, 1, 2, 2, 1, 6, 6, 0, 1, 0, 4, 0, 7, 4, 2, 4, 0, 6, 4, 7, 6, 9, 5, 3, 4, 5, 5, 0, 1, 8, 8, 2, 3, 3, 5, 7, 8, 0, 8, 3, 7, 1, 1, 0, 1, 3, 7, 8, 5, 0, 7, 1, 1, 0, 1, 1, 4, 5, 2, 3, 6, 1, 3, 0, 2, 6, 5, 9, 0, 9, 7, 2, 1, 3, 6, 4, 1, 3, 2, 4, 0, 5, 1, 0, 2, 2, 6, 4, 9, 3, 9, 5, 1, 5, 5, 7, 9, 1, 0, 2, 5, 0, 1, 4, 3, 4, 2, 8, 6, 0, 3, 8, 9, 0, 9, 6, 7, 5, 3, 3, 3, 4, 7, 7, 7, 4, 9, 0, 6, 4, 8, 4, 2, 7, 2, 8, 1, 0, 0, 3, 8, 3, 3, 3, 1, 3, 7, 5, 1, 3, 1, 5, 0, 3, 2, 0, 7, 5, 9, 3, 3, 4, 3, 9, 1, 5, 5, 0, 1, 3, 3, 0, 3, 4, 8, 2, 2, 0, 2, 5, 1, 5, 1, 4, 8, 3, 3, 1, 2, 1, 3, 5, 1, 0, 9, 4, 4, 8, 3, 8, 5, 9, 0, 6, 0, 2, 0, 0, 0, 5, 8, 0, 1, 5, 3, 3, 8, 5, 1, 8, 2, 9, 4, 0, 9, 6, 2, 3, 3, 5, 6, 1, 8, 0, 9, 2, 8, 3, 6, 7, 5, 7, 2, 9, 4, 9, 1, 2, 8, 6, 0, 7, 0, 9, 1, 1, 0, 7, 0, 3, 9, 1, 4, 5, 9, 2, 5, 0, 4, 1, 0, 8, 4, 0, 3, 9, 8, 9, 4, 0, 5, 7, 0, 5, 9, 8, 0, 9, 9, 6, 8, 9, 9, 5, 9, 8, 5, 1, 0, 3, 3, 5, 2, 1, 6, 3, 0, 1, 8, 2, 5, 5, 2, 3, 0, 2, 2, 6, 4, 3, 5, 5, 1, 7, 2, 1, 6, 9, 1, 3, 7, 3, 5, 1, 6, 2, 2, 8, 5, 3, 1, 4, 0, 0, 6, 0, 3, 3, 1, 0, 3, 6, 3, 7, 9, 3, 3, 8, 5, 4, 5, 2, 0, 5, 5, 3, 2, 8, 3, 9, 9, 3, 7, 9, 6, 6, 7, 1, 3, 0, 3, 5, 5, 0, 9, 0, 1, 9, 4, 2, 0, 8, 0, 1, 5, 9, 7, 5, 3, 4, 0, 4, 9, 9, 4, 3, 5, 3, 1, 1, 7, 6, 9, 1, 8, 4, 1, 1, 9, 7, 4, 3, 6, 8, 1, 5, 0, 4, 1, 3, 7, 7, 4, 9, 5, 1, 0, 0, 1, 1, 6, 2, 1, 9, 8, 4, 0, 3, 5, 4, 9, 0, 7, 1, 6, 3, 7, 3, 2, 5, 1, 3, 5, 4, 7, 0, 5, 7, 3, 1, 3, 8, 1, 0, 4, 3, 7, 1, 3, 5, 1, 3, 0, 0, 5, 0, 7, 3, 1, 8, 3, 9, 7, 0, 0, 8, 9, 5, 9, 8, 3, 2, 2, 2, 9, 7, 1, 1, 1, 3, 7, 5, 3, 1, 9, 7, 2, 1, 2, 5, 8, 5, 7, 3, 3, 9, 3, 0, 6, 8, 2, 3, 9, 7, 5, 5, 2, 9, 2, 8, 8, 1, 6, 2, 8, 7, 9, 1, 0, 0, 1, 3, 2, 0, 0, 5, 1, 9, 0, 2, 0, 9, 8, 6, 2, 3, 9, 3, 8, 0, 2, 1, 1, 1, 1, 4, 2, 9, 7, 7, 5, 1, 1, 2, 1, 9, 3, 9, 1, 0, 2, 0, 2, 1, 1, 4, 6, 4, 1, 3, 4, 9, 9, 7, 1, 5, 6, 2, 0, 2, 2, 0, 5, 9, 5, 1, 7, 7, 7, 1, 4, 8, 5, 3, 4, 3, 4, 7, 3, 5, 0, 7, 4, 8, 8, 1, 5, 3, 9, 5, 5, 3, 5, 9, 0, 3, 5, 3, 9, 8, 1, 8, 1, 1, 8, 6, 8, 3, 3, 3, 9, 4, 9, 2, 5, 1, 3, 1, 4, 4, 1, 4, 4, 3, 3, 9, 1, 2, 2, 3, 3, 0, 2, 9, 0, 0, 9, 5, 5, 0, 9, 3, 7, 5, 4, 1, 9, 0, 3, 2, 7, 9, 7, 5, 5, 5, 1, 1, 8, 3, 5, 1, 9, 5, 3, 5, 4, 7, 5, 9, 3, 1, 9, 0, 3, 7, 5, 4, 9, 2, 0, 1, 0, 3, 1, 4, 5, 3, 3, 6, 1, 5, 2, 5, 2, 2, 0, 2, 2, 6, 5, 0, 1, 2, 0, 3, 0, 2, 5, 5, 7, 3, 3, 3, 0, 8, 9, 5, 0, 3, 2, 5, 4, 0, 8, 8, 4, 0, 8, 8, 4, 5, 4, 5, 5, 4, 9, 2, 2, 1, 2, 6, 8, 8, 7, 0, 3, 6, 6, 4, 3, 3, 0, 7, 1, 2, 0, 0, 9, 3, 9, 0, 1, 9, 8, 6, 6, 4, 0, 6, 9, 2, 8, 5, 4, 5, 7, 9, 4, 9, 2, 1, 5, 3, 4, 0, 7, 8, 3, 9, 3, 4, 6, 5, 6, 2, 3, 9, 2, 6, 0, 0, 6, 1, 2, 8, 7, 3, 8, 2, 0, 4, 7, 3, 5, 0, 5, 6, 4, 6, 7, 4, 3, 0, 2, 5, 0, 7, 4, 2, 0, 8, 5, 9, 4, 2, 1, 6, 7, 8, 3, 5, 9, 4, 1, 3, 7, 3, 0, 8, 7, 7, 0, 9, 3, 9, 1, 3, 9, 2, 1, 3, 3, 2, 9, 5, 5, 4, 0, 1, 2, 8, 4, 5, 2, 7, 8, 1, 1, 3, 0, 3, 5, 7, 0, 3, 1, 7, 3, 5, 3, 1, 7, 7, 3, 0, 8, 4, 8, 1, 6, 5, 2, 9, 1, 3, 9, 0, 9, 9, 6, 4, 2, 9, 7, 2, 1, 1, 6, 7, 4, 7, 5, 9, 2, 8, 2, 1, 0, 4, 5, 7, 5, 1, 3, 1, 5, 9, 3, 3, 6, 1, 1, 4, 6, 9, 7, 2, 1, 5, 1, 4, 6, 3, 1, 1, 1, 0, 3, 1, 6, 8, 4, 9, 0, 7, 3, 0, 2, 9, 0, 6, 5, 6, 3, 6, 7, 7, 2, 0, 5, 0, 8, 3, 0, 2, 9, 8, 3, 2, 5, 3, 9, 3, 0, 0, 1, 9, 5, 1, 3, 9, 6, 0, 1, 4, 1, 7, 1, 2, 3, 7, 9, 7, 4, 9, 9, 3, 9, 2, 8, 1, 7, 1, 0, 0, 9, 1, 0, 1, 7, 7, 9, 6, 9, 9, 9, 2, 1, 6, 1, 3, 5, 0, 1, 3, 7, 5, 4, 5, 7, 6, 6, 9, 9, 5, 3, 5, 2, 9, 8, 1, 2, 2, 3, 5, 2, 3, 7, 2, 1, 0, 1, 0, 4, 5, 2, 0, 2, 8, 3, 5, 1, 7, 3, 1, 1, 2, 5, 3, 6, 4, 0, 3, 0, 7, 8, 8, 4, 7, 7, 8, 5, 8, 0, 9, 8, 1, 3, 8, 0, 3, 0, 3, 9, 3, 5, 1, 6, 5, 7, 4, 9, 3, 5, 4, 7, 1, 2, 0, 8, 1, 6, 0, 7, 3, 4, 7, 3, 9, 6, 0, 5, 5, 4, 8, 7, 7, 9, 3, 8, 5, 9, 7, 2, 3, 4, 0, 2, 1, 0, 3, 5, 5, 7, 2, 4, 0, 7, 2, 8, 3, 0, 5, 7, 8, 0, 0, 8, 4, 4, 5, 3, 5, 6, 6, 3, 0, 9, 3, 7, 5, 3, 9, 3, 4, 9, 3, 8, 9, 1, 2, 8, 8, 6, 8, 1, 3, 7, 9, 0, 1, 1, 9, 7, 0, 3, 1, 7, 4, 5, 7, 1, 2, 1, 1, 3, 0, 6, 2, 1, 2, 5, 8, 7, 5, 6, 9, 3, 7, 0, 0, 2, 0, 0, 5, 4, 3, 5, 4, 5, 5, 2, 7, 9, 3, 1, 3, 2, 4, 3, 5, 1, 9, 4, 4, 7, 6, 5, 4, 1, 4, 9, 2, 7, 8, 0, 1, 3, 6, 1, 3, 4, 1, 1, 1, 5, 5, 0, 7, 0, 7, 2, 3, 2, 3, 0, 2, 9, 4, 9, 8, 1, 2, 1, 5, 1, 2, 7, 4, 0, 0, 0, 8, 2, 2, 9, 2, 1, 0, 9, 9, 2, 7, 5, 1, 3, 0, 9, 4, 1, 3, 5, 6, 2, 8, 3, 1, 2, 0, 4, 9, 9, 2, 7, 0, 7, 7, 2, 3, 2, 4, 0, 3, 9, 9, 8, 4, 1, 0, 6, 0, 9, 6, 0, 6, 1, 1, 9, 8, 9, 2, 3, 3, 3, 9, 4, 2, 1, 9, 4, 3, 9, 6, 0, 4, 0, 6, 0, 1, 1, 3, 4, 7, 8, 9, 0, 1, 1, 3, 4, 7, 6, 9, 0, 1, 2, 3, 4, 5, 6, 7, 8, 9, 8, 3, 4, 7, 8, 6, 3, 4, 0, 9, 7, 1, 9, 3, 8, 4, 7, 3, 0, 9, 1, 4, 5, 4, 5, 2, 0, 0, 2, 1, 1, 1, 1, 7, 1, 4, 7, 5, 1, 9, 4, 5, 8, 4, 1, 9, 7, 0, 0, 7, 5, 1, 1, 7, 6, 6, 0, 3, 2, 1, 7, 7, 4, 0, 1, 4, 1, 1, 5, 9, 5, 1, 0, 5, 9, 6, 9, 5, 0, 3, 0, 5, 3, 9, 6, 3, 0, 1, 2, 3, 4, 3, 6, 7, 0, 1, 2, 3, 9, 5, 6, 7, 8, 9, 0, 1, 2, 3, 4, 5, 6, 7, 6, 5, 4, 8, 7, 4, 7, 7, 3, 9, 8, 8, 3, 1, 5, 8, 1, 7, 4, 2, 1, 5, 4, 5, 5, 8, 6, 4, 9, 4, 0, 8, 7, 5, 5, 1, 8, 9, 1, 3, 6, 3, 3, 2, 2, 0, 9, 9, 0, 5, 5, 3, 3, 8, 1, 6, 3, 6, 8, 1, 9, 7, 6, 8, 3, 0, 4, 7, 0, 9, 0, 0, 3, 7, 9, 3, 0, 2, 0, 1, 0, 1, 0, 4, 0, 1, 0, 4, 7, 9, 6, 2, 6, 2, 2, 9, 9, 0, 1, 2, 3, 4, 5, 6, 7, 8, 9, 0, 1, 2, 3, 4, 5, 6, 7, 0, 9, 0, 1, 2, 3, 4, 5, 5, 7, 8, 9, 8, 0, 3, 5, 5, 0, 8, 0, 2, 3, 7, 9, 4, 7, 1, 9, 1, 7, 1, 4, 0, 0, 4, 1, 7, 5, 7, 1, 3, 3, 3, 6, 5, 9, 7, 4, 3, 0, 2, 5, 2, 5, 0, 8, 9, 4, 3, 5, 4, 8, 1, 5, 9, 0, 6, 4, 3, 6, 3, 3, 9, 1, 4, 7, 5, 7, 2, 2, 0, 0, 1, 7, 7, 9, 5, 9, 8, 9, 6, 8, 8, 2, 3, 5, 1, 2, 9, 8, 9, 5, 2, 5, 2, 4, 8, 4, 5, 3, 0, 1, 5, 6, 7, 8, 9, 0, 1, 2, 3, 4, 5, 6, 7, 8, 9, 0, 1, 2, 3, 4, 5, 6, 7, 8, 9, 7, 4, 1, 0, 9, 0, 1, 5, 8, 8, 0, 2, 7, 8, 4, 4, 6, 1, 0, 4, 5, 3, 9, 4, 2, 0, 5, 0, 1, 3, 2, 7, 1, 6, 0, 1, 1, 5, 0, 4, 7, 7, 6, 3, 0, 0, 7, 3, 5, 4, 2, 4, 1, 8, 3, 5, 6, 7, 0, 6, 7, 1, 1, 5, 8, 1, 9, 3, 3, 2, 8, 7, 6, 7, 1, 4, 6, 2, 9, 3, 0, 1, 2, 3, 4, 5, 5, 7, 0, 1, 2, 3, 4, 5, 0, 1, 2, 0, 9, 1, 4, 0, 9, 5, 0, 5, 0, 7, 7, 1, 1, 2, 9, 3, 6, 7, 2, 3, 8, 1, 2, 9, 0, 8, 7, 1, 7, 1, 1, 0, 3, 4, 2, 6, 4, 7, 4, 2, 7, 2, 9, 1, 0, 6, 0, 5, 5, 5, 3, 5, 7, 7, 4, 8, 5, 9, 6, 9, 3, 0, 3, 0, 9, 1, 8, 1, 6, 0, 0, 1, 2, 3, 4, 5, 5, 7, 8, 9, 0, 1, 2, 3, 4, 5, 6, 7, 8, 9, 0, 1, 2, 3, 4, 5, 5, 7, 8, 9, 3, 5, 3, 2, 9, 3, 2, 1, 4, 3, 5, 2, 3, 2, 1, 3, 5, 7, 2, 5, 2, 8, 9, 1, 8, 8, 7, 8, 1, 0, 0, 7, 7, 8, 7, 5, 0, 6, 1, 3, 7, 4, 6, 1, 2, 5, 0, 7, 7, 9, 0, 3, 8, 2, 4, 6, 1, 8, 5, 5, 9, 0, 0, 0, 3, 7, 1, 6, 4, 2, 5, 6, 0, 4, 5, 4, 1, 3, 8, 6, 3, 9, 9, 5, 9, 3, 7, 8, 5, 5, 4, 7, 5, 2, 2, 0, 7, 0, 0, 1, 2, 3, 4, 5, 6, 7, 8, 9, 0, 1, 2, 2, 5, 6, 0, 1, 1, 3, 4, 3, 6, 8, 7, 1, 3, 2, 5, 0, 7, 3, 9, 9, 6, 0, 7, 4, 1, 3, 2, 1, 2, 3, 8, 3, 2, 6, 5, 6, 2, 2, 7, 4, 8, 1, 8, 0, 3, 3, 9, 4, 1, 9, 2, 1, 5, 6, 7, 9, 0, 4, 6, 1, 7, 3, 8, 7, 1, 9, 0, 3, 8, 3, 9, 0, 5, 7, 1, 6, 1, 0, 9, 3, 3, 4, 4, 0, 6, 2, 3, 4, 2, 3, 4, 6, 0, 0, 2, 0, 1, 4, 5, 6, 0, 8, 9, 0, 1, 2, 3, 4, 5, 6, 7, 8, 0, 1, 2, 3, 4, 3, 6, 7, 5, 7, 8, 7, 1, 3, 7, 3, 2, 8, 0, 7, 3, 9, 5, 0, 5, 1, 1, 3, 8, 8, 0, 3, 2, 1, 8, 3, 2, 6, 3, 6, 0, 0, 1, 0, 3, 3, 1, 9, 2, 1, 9, 5, 0, 4, 6, 1, 7, 3, 8, 7, 2, 9, 6, 3, 8, 3, 5, 7, 1, 6, 1, 0, 9, 6, 1, 3, 4, 1, 3, 4, 4, 6, 0, 0, 2, 0, 1, 2, 3, 4, 3, 6, 7, 0, 9, 0, 1, 2, 3, 4, 5, 6, 7, 8, 5, 0, 1, 2, 5, 4, 5, 6, 7, 0, 5, 8, 5, 3, 0, 6, 8, 9, 4, 1, 9, 3, 5, 0, 4, 8, 9, 1, 4, 0, 5, 3, 2, 1, 5, 4, 0, 7, 5, 0, 1, 7, 0, 6, 8, 9, 5, 1, 7, 9, 5, 6, 0, 8, 1, 3, 7, 1, 3, 2, 3, 1, 4, 2, 0, 0, 7, 8, 4, 6, 4, 9, 3, 3, 4, 3, 0, 3, 5, 3, 5, 9, 6, 3, 0, 2, 4, 6, 9, 0, 2, 5, 5, 1, 5, 3, 9, 7, 8, 7, 2, 2, 5, 3, 9, 5, 2, 1, 0, 1, 3, 0, 1, 2, 3, 4, 5, 6, 7, 8, 3, 0, 1, 2, 3, 4, 5, 6, 7, 8, 3, 0, 1, 2, 3, 4, 5, 5, 7, 8, 3, 1, 2, 6, 5, 3, 0, 7, 0, 4, 1, 4, 3, 6, 7, 2, 3, 1, 2, 1, 2, 9, 6, 0, 1, 3, 0, 1, 7, 5, 7, 6, 2, 3, 1, 3, 0, 6, 0, 6, 0, 2, 0, 6, 1, 5, 8, 4, 3, 0, 1, 5, 4, 4, 5, 5, 7, 5, 7, 8, 3, 4, 8, 8, 5, 2, 3, 7, 1, 3, 8, 1, 0, 7, 5, 3, 6, 3, 4, 7, 7, 3, 8, 3, 4, 4, 3, 8, 5, 1, 0, 1, 2, 3, 4, 5, 6, 7, 8, 9, 0, 1, 2, 3, 4, 5, 6, 7, 8, 9, 0, 1, 2, 3, 4, 5, 6, 7, 8, 9, 0, 8, 3, 9, 5, 3, 2, 6, 8, 4, 9, 1, 7, 1, 2, 3, 3, 9, 6, 9, 1, 1, 1, 1, 9, 5, 6, 8, 1, 1, 0, 7, 7, 3, 8, 2, 9, 8, 9, 0, 4, 6, 7, 1, 3, 4, 5, 6, 0, 3, 6, 8, 7, 0, 4, 2, 7, 4, 7, 5, 4, 3, 4, 2, 8, 1, 3, 1, 2, 0, 2, 5, 6, 4, 3, 0, 0, 0, 3, 3, 5, 7, 0, 6, 4, 8, 8, 6, 3, 4, 6, 9, 7, 3, 2, 7, 7, 1, 0, 1, 2, 3, 4, 5, 6, 7, 8, 9, 0, 1, 2, 3, 4, 5, 6, 7, 8, 0, 1, 2, 3, 4, 5, 6, 7, 8, 2, 1, 7, 2, 5, 0, 8, 0, 2, 7, 6, 8, 3, 6, 0, 2, 7, 6, 6, 1, 2, 8, 8, 7, 7, 4, 7, 7, 3, 7, 4, 5, 4, 3, 3, 2, 4, 1, 1, 9, 7, 4, 3, 7, 3, 3, 0, 2, 5, 3, 6, 6, 3, 3, 2, 5, 9, 9, 8, 4, 1, 0, 6, 0, 9, 6, 0, 8, 5, 6, 1, 1, 3, 8, 9, 2, 3, 3, 5, 5, 4, 2, 1, 9, 2, 9, 2, 0, 6, 0, 4, 0, 0, 1, 2, 3, 4, 7, 8, 9, 0, 1, 1, 3, 7, 8, 9, 0, 1, 1, 3, 4, 7, 8, 9, 7, 3, 0, 3, 1, 8, 7, 6, 4, 0, 2, 6, 8, 3, 2, 8, 1, 2, 0, 7, 1, 0, 4, 4, 5, 8, 0, 6, 2, 3, 1, 5, 1, 8, 5, 9, 4, 0, 7, 5, 8, 8, 3, 8, 9, 1, 5, 1, 5, 3, 1, 7, 3, 0, 1, 9, 9, 6, 0, 3, 9, 1, 8, 1, 4, 1, 5, 2, 9, 2, 5, 8, 9, 5, 0, 1, 2, 2, 5, 6, 0, 1, 2, 3, 4, 5, 6, 7, 1, 2, 3, 4, 3, 1, 0, 4, 5, 6, 5, 3, 4, 4, 2, 7, 1, 0, 6, 4, 9, 3, 2, 3, 3, 9, 2, 0, 0, 3, 3, 7, 0, 3, 6, 3, 7, 7, 8, 4, 0, 2, 4, 0, 2, 4, 7, 8, 0, 7, 0, 6, 9, 3, 2, 8, 6, 0, 5, 7, 5, 1, 0, 9, 1, 6, 7, 2, 5, 7, 9, 5, 8, 6, 2, 5, 2, 8, 1, 7, 5, 0, 1, 1, 3, 1, 4, 9, 0, 5, 6, 8, 5, 0, 1, 1, 3, 4, 5, 5, 7, 3, 9, 0, 1, 2, 3, 4, 7, 8, 9, 6, 1, 7, 8, 9, 9, 8, 9, 8, 4, 1, 0, 7, 3, 3, 7, 5, 5, 5, 1, 9, 0, 1, 7, 5, 3, 2, 1, 7, 1, 3, 9, 1, 7, 6, 8, 4, 1, 4, 3, 5, 9, 6, 1, 4, 4, 7, 2, 4, 4, 0, 1, 2, 3, 4, 3, 6, 7, 8, 9, 0, 1, 2, 3, 4, 5, 6, 9, 0, 1, 2, 3, 4, 7, 8, 1, 3, 5, 1, 7, 7, 2, 1, 4, 5, 3, 4, 4, 3, 0, 7, 4, 1, 2, 3, 2, 9, 1, 5, 0, 1, 0, 0, 2, 3, 7, 1, 1, 4, 0, 4, 7, 3, 5, 6, 0, 3, 7, 4, 0, 6, 9, 2, 5, 3, 6, 6, 9, 0, 4, 0, 5, 6, 9, 2, 0, 9, 5, 1, 3, 7, 5, 9, 3, 0, 2, 2, 0, 1, 2, 3, 4, 5, 5, 7, 8, 9, 0, 1, 2, 3, 4, 5, 6, 7, 8, 4, 0, 1, 2, 3, 4, 3, 6, 7, 8, 9, 2, 1, 7, 2, 5, 0, 8, 0, 2, 7, 8, 8, 3, 0, 6, 0, 2, 7, 6, 4, 1, 2, 8, 2, 7, 7, 1, 7, 7, 3, 7, 4, 5, 4, 3, 3, 8, 4, 3, 4, 1, 1, 9, 7, 4, 3, 7, 3, 3, 0, 2, 5, 5, 6, 3, 1, 5, 2, 3, 9, 9, 8, 4, 1, 0, 6, 0, 9, 6, 8, 3, 5, 6, 1, 1, 9, 8, 5, 0, 3, 5, 5, 9, 4, 1, 1, 9, 4, 9, 1, 3, 9, 2, 0, 6, 0, 4, 0, 4, 0, 1, 2, 3, 4, 5, 6, 7, 8, 9, 0, 1, 2, 3, 4, 5, 5, 7, 9, 9, 0, 1, 2, 3, 4, 5, 6, 7, 8, 9, 3, 8, 0, 7, 1, 0, 7, 3, 5, 6, 7, 0, 1, 0, 0, 8, 3, 4, 3, 1, 5, 0, 0, 9, 3, 3, 4, 9, 3, 7, 6, 9, 2, 4, 5, 7, 2, 6, 4, 9, 4, 9, 4, 1, 2, 1, 5, 8, 1, 3, 2, 9, 4, 3, 8, 2, 2, 1, 2, 8, 6, 3, 1, 6, 7, 2, 1, 3, 9, 3, 8, 7, 5, 7, 0, 7, 4, 8, 3, 5, 0, 6, 6, 3, 7, 6, 7, 9, 4, 8, 4, 1, 0, 6, 6, 0, 1, 1, 3, 4, 5, 6, 7, 8, 9, 0, 1, 2, 3, 4, 5, 5, 7, 8, 9, 0, 1, 1, 3, 4, 5, 6, 7, 8, 9, 7, 4, 0, 4, 0, 1, 7, 7, 5, 1, 4, 1, 8, 9, 4, 3, 7, 8, 2, 4, 4, 3, 3, 6, 9, 9, 5, 8, 6, 7, 0, 6, 8, 1, 6, 3, 9, 3, 1, 9, 6, 1, 7, 4, 8, 8, 9, 0, 3, 3, 9, 0, 5, 2, 9, 4, 1, 0, 3, 7, 5, 8, 7, 7, 8, 2, 9, 7, 1, 2, 6, 4, 2, 5, 1, 3, 6, 6, 5, 0, 0, 2, 8, 1, 6, 1, 0, 4, 3, 1, 6, 1, 9, 0, 1, 4, 5, 5, 7, 8, 9, 1, 2, 3, 4, 5, 5, 7, 0, 1, 2, 3, 4, 5, 5, 7, 8, 9, 0, 4, 0, 0, 7, 2, 4, 3, 3, 5, 5, 3, 2, 6, 3, 3, 0, 1, 4, 7, 3, 0, 3, 1, 9, 0, 1, 9, 1, 2, 7, 0, 1, 3, 8, 2, 9, 2, 7, 6, 3, 5, 9, 9, 8, 2, 9, 1, 3, 0, 3, 4, 3, 1, 9, 0, 7, 3, 5, 3, 7, 0, 1, 0, 5, 8, 2, 7, 7, 0, 1, 2, 3, 4, 5, 6, 7, 8, 9, 0, 1, 2, 3, 4, 5, 6, 7, 8, 9, 0, 1, 2, 3, 4, 5, 6, 7, 8, 9, 1, 7, 4, 8, 1, 3, 6, 5, 7, 2, 0, 6, 3, 3, 8, 6, 5, 4, 0, 9, 1, 7, 1, 9, 1, 3, 1, 3, 2, 2, 3, 0, 6, 4, 3, 7, 6, 9, 0, 9, 8, 1, 4, 0, 6, 1, 1, 6, 9, 2, 1, 3, 3, 3, 1, 0, 7, 7, 9, 6, 2, 9, 4, 7, 0, 2, 3, 4, 0, 0, 8, 0, 8, 5, 1, 3, 7, 4, 9, 8, 8, 9, 0, 9, 8, 9, 0, 2, 6, 3, 6, 7, 4, 7, 3, 4, 1, 3, 5, 3, 1, 2, 3, 4, 5, 6, 1, 2, 3, 4, 6, 0, 1, 2, 4, 5, 6, 7, 8, 1, 7, 2, 4, 1, 4, 1, 4, 5, 6, 8, 4, 3, 3, 7, 8, 9, 3, 3, 5, 6, 7, 0, 6, 1, 6, 8, 7, 0, 1, 3, 0, 8, 0, 0, 1, 5, 8, 4, 2, 3, 5, 7, 6, 9, 1, 9, 0, 5, 7, 1, 2, 3, 9, 2, 4, 5, 5, 3, 7, 3, 3, 1, 5, 2, 2, 3, 0, 2, 9, 4, 9, 7, 0, 2, 7, 4, 9, 9, 1, 3, 9, 8, 3, 3, 6, 7, 0, 0, 1, 2, 3, 4, 3, 6, 7, 0, 9, 0, 1, 2, 3, 4, 5, 6, 7, 0, 9, 0, 1, 2, 3, 4, 5, 6, 7, 8, 9, 0, 0, 7, 2, 6, 5, 5, 3, 7, 8, 6, 5, 6, 6, 4, 3, 0, 8, 3, 0, 1, 9, 0, 3, 4, 1, 9, 1, 2, 7, 0, 1, 3, 0, 2, 9, 2, 7, 1, 2, 6, 5, 5, 9, 4, 1, 1, 5, 7, 6, 8, 2, 9, 4, 3, 1, 9, 0, 9, 3, 6, 3, 7, 0, 1, 0, 5, 8, 2, 7, 7, 0, 1, 2, 3, 4, 5, 6, 7, 8, 9, 0, 1, 2, 3, 4, 5, 8, 9, 0, 1, 2, 3, 4, 5, 6, 7, 8, 9, 2, 1, 2, 1, 3, 9, 9, 8, 5, 3, 7, 0, 7, 7, 5, 7, 9, 9, 4, 7, 0, 3, 4, 1, 5, 8, 1, 4, 8, 4, 1, 8, 6, 6, 4, 6, 0, 5, 5, 3, 3, 5, 7, 2, 5, 9, 6, 9, 2, 6, 2, 1, 2, 0, 3, 3, 8, 3, 0, 8, 7, 4, 9, 5, 0, 9, 7, 0, 0, 4, 6, 0, 9, 1, 6, 2, 7, 6, 5, 3, 5, 2, 1, 8, 3, 5, 6, 1, 0, 2, 1, 4, 0, 1, 2, 3, 4, 5, 6, 7, 0, 9, 0, 1, 2, 3, 4, 5, 6, 7, 8, 9, 0, 1, 2, 3, 4, 5, 6, 7, 8, 7, 7, 6, 4, 7, 6, 2, 3, 4, 8, 7, 8, 6, 9, 8, 3, 2, 2, 8, 4, 8, 3, 6, 3, 0, 2, 0, 1, 1, 2, 7, 6, 8, 2, 1, 0, 6, 5, 2, 7, 7, 5, 3, 9, 3, 7, 1, 8, 3, 8, 1, 9, 3, 5, 0, 1, 1, 9, 8, 2, 6, 0, 4, 5, 0, 3, 1, 8, 6, 3, 5, 9, 9, 3, 0, 3, 1, 4, 4, 0, 4, 7, 0, 1, 2, 3, 0, 0, 7, 8, 0, 1, 2, 2, 0, 5, 7, 8, 9, 0, 1, 2, 2, 5, 6, 7, 8, 9, 9, 7, 0, 9, 0, 1, 5, 8, 0, 0, 9, 3, 2, 7, 8, 4, 6, 1, 0, 4, 9, 2, 2, 0, 5, 0, 1, 6, 9, 3, 2, 9, 1, 6, 0, 0, 1, 8, 7, 7, 6, 3, 6, 0, 7, 2, 4, 1, 7, 0, 5, 7, 1, 2, 5, 8, 1, 6, 2, 8, 7, 6, 8, 7, 1, 5, 2, 9, 3, 0, 1, 2, 3, 4, 5, 6, 7, 8, 9, 0, 1, 2, 3, 4, 5, 5, 7, 8, 9, 0, 1, 2, 3, 4, 5, 6, 7, 0, 9, 8, 9, 5, 7, 0, 3, 1, 5, 8, 4, 1, 5, 5, 4, 2, 7, 8, 1, 3, 4, 3, 4, 7, 2, 0, 5, 0, 1, 9, 2, 3, 2, 3, 5, 5, 7, 8, 2, 9, 9, 7, 1, 1, 9, 0, 3, 8, 3, 4, 8, 6, 3, 8, 0, 9, 6, 2, 0, 0, 1, 0, 6, 2, 3, 8, 9, 0, 3, 2, 3, 4, 5, 3, 2, 8, 5, 4, 6, 6, 6, 3, 9, 1, 8, 2, 1, 5, 3, 4, 7, 9, 4, 0, 0, 0, 1, 1, 3, 4, 5, 6, 7, 0, 3, 0, 1, 1, 3, 4, 3, 6, 7, 0, 9, 0, 1, 1, 3, 4, 5, 6, 9, 0, 1, 3, 1, 5, 1, 2, 4, 9, 2, 4, 6, 0, 0, 1, 1, 9, 2, 6, 5, 0, 7, 4, 1, 9, 7, 0, 2, 1, 0, 3, 6, 0, 1, 2, 3, 4, 5, 5, 7, 8, 9, 0, 1, 2, 3, 4, 5, 5, 7, 8, 9, 0, 1, 2, 3, 4, 5, 5, 7, 8, 9, 8, 5, 5, 9, 7, 0, 2, 3, 4, 3, 8, 5, 1, 3, 2, 3, 0, 1, 2, 1, 3, 2, 6, 5, 3, 0, 7, 2, 7, 4, 5, 4, 0, 5, 5, 9, 3, 9, 3, 3, 1, 7, 4, 7, 5, 5, 4, 0, 0, 6, 5, 2, 0, 6, 3, 7, 7, 4, 0, 3, 9, 2, 8, 5, 5, 0, 9, 5, 3, 8, 8, 7, 1, 4, 0, 4, 8, 5, 2, 3, 9, 0, 1, 9, 1, 5, 1, 7, 4, 8, 5, 2, 1, 6, 8, 8, 0, 1, 2, 3, 4, 7, 8, 9, 0, 1, 2, 3, 4, 6, 7, 3, 5, 0, 1, 2, 3, 4, 0, 8, 9, 1, 4, 5, 3, 3, 0, 9, 5, 4, 3, 0, 4, 4, 5, 2, 0, 7, 7, 1, 6, 9, 1, 3, 6, 2, 3, 8, 2, 3, 5, 5, 5, 8, 8, 7, 1, 7, 1, 1, 0, 3, 4, 1, 6, 4, 7, 4, 2, 2, 4, 2, 9, 2, 7, 9, 2, 1, 0, 6, 3, 3, 4, 8, 5, 9, 6, 9, 0, 6, 3, 0, 8, 1, 6, 0, 0, 1, 2, 3, 4, 5, 6, 7, 0, 1, 2, 3, 4, 7, 8, 9, 0, 1, 2, 3, 4, 7, 2, 5, 1, 5, 4, 3, 9, 9, 0, 9, 7, 0, 6, 4, 3, 6, 2, 0, 5, 8, 6, 5, 7, 0, 0, 1, 7, 4, 3, 1, 4, 1, 3, 7, 6, 4, 7, 7, 7, 9, 5, 4, 3, 6, 1, 5, 3, 3, 5, 0, 5, 4, 7, 1, 3, 1, 7, 9, 6, 2, 0, 9, 1, 7, 3, 3, 9, 1, 6, 4, 3, 9, 8, 2, 1, 8, 6, 4, 1, 5, 5, 6, 3, 0, 1, 2, 3, 4, 3, 6, 7, 0, 9, 0, 1, 2, 3, 4, 3, 6, 3, 8, 9, 0, 1, 2, 3, 4, 3, 6, 7, 8, 9, 6, 9, 7, 0, 2, 3, 4, 3, 0, 3, 1, 3, 0, 1, 2, 1, 3, 2, 0, 7, 2, 6, 4, 0, 3, 9, 5, 8, 9, 5, 3, 1, 3, 4, 3, 0, 0, 5, 6, 6, 3, 3, 9, 2, 6, 9, 8, 7, 1, 9, 0, 4, 0, 3, 2, 3, 9, 0, 1, 9, 1, 3, 1, 3, 5, 1, 2, 1, 5, 8, 0, 1, 2, 3, 4, 5, 6, 7, 8, 9, 0, 1, 2, 3, 4, 5, 6, 7, 8, 0, 1, 2, 3, 5, 6, 7, 8, 1, 0, 4, 3, 0, 6, 3, 4, 4, 2, 8, 1, 0, 0, 4, 9, 7, 2, 9, 2, 0, 9, 3, 3, 9, 1, 5, 2, 3, 1, 6, 7, 3, 7, 8, 4, 0, 2, 1, 0, 2, 4, 7, 8, 0, 7, 0, 6, 9, 3, 2, 4, 8, 6, 0, 5, 7, 5, 1, 0, 8, 1, 6, 7, 2, 5, 7, 9, 5, 6, 3, 2, 6, 2, 8, 1, 7, 5, 3, 7, 3, 5, 0, 1, 1, 3, 8, 4, 9, 4, 5, 0, 8, 6, 8, 7, 0, 1, 2, 3, 4, 5, 6, 7, 5, 9, 0, 1, 2, 3, 4, 5, 5, 7, 8, 9, 0, 1, 2, 3, 4, 5, 6, 7, 8, 9, 3, 5, 3, 2, 9, 3, 2, 1, 4, 5, 5, 1, 3, 2, 1, 3, 9, 7, 2, 1, 2, 5, 9, 1, 8, 8, 7, 3, 1, 0, 0, 6, 7, 7, 8, 7, 5, 0, 6, 1, 3, 7, 4, 6, 1, 2, 5, 0, 7, 9, 9, 0, 3, 4, 4, 0, 4, 1, 8, 6, 5, 9, 0, 0, 0, 3, 7, 1, 6, 4, 6, 0, 4, 5, 4, 1, 3, 8, 6, 3, 9, 9, 5, 9, 3, 7, 0, 3, 6, 4, 7, 6, 2, 1, 0, 9, 4, 0, 1, 2, 3, 4, 5, 6, 7, 8, 5, 0, 1, 2, 3, 4, 5, 6, 7, 8, 9, 0, 1, 2, 3, 4, 5, 5, 7, 8, 9, 5, 4, 2, 6, 4, 7, 5, 5, 4, 7, 2, 9, 3, 9, 3, 8, 2, 0, 9, 5, 6, 0, 1, 0, 6, 5, 3, 5, 3, 8, 0, 0, 3, 4, 1, 5, 3, 0, 8, 3, 0, 6, 2, 7, 8, 1, 7, 1, 3, 8, 5, 4, 2, 0, 9, 7, 6, 7, 4, 1, 6, 2, 6, 7, 1, 9, 8, 0, 6, 9, 4, 9, 9, 6, 2, 3, 7, 1, 9, 2, 2, 5, 3, 7, 8, 0, 1, 2, 3, 4, 7, 8, 9, 0, 1, 2, 3, 4, 7, 8, 9, 0, 1, 7, 8, 9, 8, 9, 2, 6, 1, 3, 5, 4, 8, 2, 5, 4, 3, 4, 5, 9, 2, 0, 3, 9, 4, 9, 7, 3, 8, 7, 4, 4, 9, 8, 5, 8, 2, 5, 6, 2, 3, 1, 3, 2, 7, 3, 1, 9, 0, 1, 1, 3, 5, 0, 7, 8, 1, 5, 1, 4, 6, 0, 0, 4, 9, 1, 6, 6, 9, 0, 7, 6, 1, 1, 0, 1, 1, 3, 0, 2, 2, 3, 2, 5, 6, 2, 0, 1, 2, 2, 8, 6, 3, 9, 2, 1, 9, 3, 9, 6, 1, 3, 2, 4, 4, 5, 2, 0, 0, 1, 5, 5, 8, 2, 3, 3, 2, 4, 2, 1, 6, 1, 0, 5, 9, 8, 3, 5, 6, 3, 0, 1, 2, 3, 4, 5, 6, 7, 8, 9, 0, 8, 2, 3, 4, 5, 6, 7, 8, 3, 0, 1, 2, 3, 4, 5, 6, 7, 8, 9, 1, 6, 8, 9, 9, 0, 1, 2, 4, 4, 3, 7, 4, 4, 4, 0, 3, 8, 7, 5, 8, 2, 1, 7, 5, 3, 8, 5, 2, 5, 1, 1, 6, 2, 1, 3, 8, 6, 4, 2, 6, 2, 5, 5, 0, 2, 8, 0, 6, 8, 1, 7, 9, 1, 9, 2, 6, 7, 5, 5, 8, 7, 4, 9, 2, 1, 3, 3, 0, 5, 5, 8, 0, 3, 7, 9, 7, 0, 2, 7, 5, 1, 7, 8, 0, 3, 5, 3, 6, 0, 1, 1, 3, 4, 5, 5, 7, 8, 9, 0, 1, 2, 3, 4, 5, 5, 7, 8, 9, 0, 1, 2, 3, 4, 7, 8, 9, 6, 4, 2, 6, 4, 7, 8, 9, 1, 4, 3, 9, 3, 0, 0, 1, 0, 4, 1, 5, 3, 5, 3, 0, 3, 4, 1, 5, 3, 0, 8, 3, 0, 6, 1, 7, 8, 0, 9, 1, 6, 7, 1, 8, 5, 9, 4, 9, 4, 5, 7, 1, 2, 5, 3, 7, 8, 0, 1, 2, 4, 3, 6, 7, 8, 9, 0, 1, 3, 4, 5, 6, 7, 5, 0, 1, 3, 4, 3, 5, 9, 7, 5, 5, 1, 9, 7, 7, 1, 0, 0, 5, 9, 7, 1, 7, 2, 2, 3, 6, 8, 3, 2, 0, 0, 6, 1, 3, 5, 5, 6, 2, 9, 4, 5, 5, 7, 1, 0, 8, 7, 7, 5, 8, 5, 3, 4, 6, 1, 1, 3, 3, 0, 7, 2, 1, 6, 4, 1, 2, 4, 1, 5, 4, 2, 0, 4, 8, 6, 1, 9, 0, 2, 5, 6, 9, 3, 6, 3, 6, 0, 1, 2, 3, 4, 5, 6, 7, 8, 9, 0, 1, 2, 3, 4, 5, 6, 7, 5, 9, 0, 1, 2, 3, 3, 6, 7, 5, 1, 0, 9, 3, 7, 3, 1, 8, 6, 9, 0, 4, 1, 9, 3, 8, 4, 4, 7, 0, 1, 3, 2, 8, 7, 8, 2, 3, 9, 6, 0, 6, 3, 5, 3, 3, 3, 9, 8, 1, 1, 0, 6, 1, 0, 0, 6, 2, 1, 1, 3, 2, 7, 7, 5, 5, 7, 8, 4, 6, 0, 2, 0, 7, 0, 3, 6, 8, 7, 1, 3, 9, 9, 3, 7, 2, 4, 9, 4, 3, 6, 2, 2, 3, 3, 2, 5, 5, 9, 4, 1, 7, 2, 0, 1, 2, 3, 4, 5, 6, 3, 8, 9, 0, 1, 1, 3, 4, 5, 6, 7, 8, 9, 0, 1, 2, 3, 4, 5, 6, 7, 8, 9, 1, 0, 1, 2, 7, 5, 3, 4, 4, 0, 0, 6, 9, 6, 0, 5, 7, 2, 3, 4, 4, 4, 1, 4, 0, 7, 7, 5, 7, 2, 3, 1, 4, 4, 0, 9, 7, 6, 1, 8, 3, 3, 7, 3, 7, 8, 8, 4, 7, 7, 5, 2, 1, 9, 8, 7, 8, 8, 7, 1, 2, 3, 9, 3, 3, 5, 5, 0, 7, 4, 5, 5, 5, 1, 4, 1, 1, 2, 8, 2, 6, 1, 5, 0, 1, 2, 3, 4, 5, 5, 7, 8, 3, 0, 1, 2, 3, 4, 5, 6, 7, 3, 9, 0, 1, 2, 3, 4, 5, 6, 7, 8, 2, 0, 6, 0, 1, 2, 3, 7, 9, 4, 7, 1, 9, 1, 7, 1, 4, 0, 0, 1, 7, 5, 0, 1, 3, 3, 3, 1, 5, 9, 7, 1, 3, 0, 2, 6, 0, 8, 9, 7, 3, 5, 4, 8, 1, 5, 9, 0, 6, 5, 3, 8, 1, 4, 7, 5, 2, 0, 0, 1, 7, 8, 7, 6, 8, 8, 1, 3, 5, 1, 2, 9, 5, 2, 0, 1, 1, 3, 4, 5, 6, 7, 5, 9, 0, 1, 2, 3, 4, 3, 5, 7, 8, 9, 0, 1, 2, 3, 4, 5, 5, 7, 5, 7, 7, 4, 5, 1, 4, 0, 9, 9, 3, 7, 8, 0, 7, 5, 8, 5, 3, 2, 2, 0, 5, 5, 5, 0, 3, 8, 1, 0, 3, 0, 9, 7, 4, 9, 0, 9, 5, 7, 1, 7, 1, 5, 6, 0, 6, 2, 8, 7, 5, 4, 9, 9, 5, 3, 7, 4, 3, 0, 0, 5, 6, 1, 1, 3, 2, 1, 0, 0, 1, 2, 3, 4, 7, 5, 7, 0, 1, 2, 3, 4, 5, 5, 7, 8, 0, 1, 2, 3, 4, 7, 5, 9, 0, 8, 3, 9, 5, 5, 2, 6, 6, 0, 1, 7, 1, 3, 3, 5, 6, 9, 1, 1, 1, 2, 1, 2, 0, 7, 7, 5, 5, 2, 5, 8, 0, 7, 3, 4, 6, 8, 7, 0, 4, 2, 7, 7, 5, 4, 3, 4, 2, 5, 1, 5, 1, 0, 2, 3, 3, 5, 7, 0, 6, 8, 0, 3, 9, 9, 5, 2, 7, 7, 1, 0, 1, 7, 8, 9, 0, 1, 0, 3, 4, 5, 6, 7, 8, 0, 1, 2, 3, 4, 2, 8, 9, 7, 8, 5, 4, 1, 9, 3, 8, 6, 4, 7, 0, 1, 9, 2, 8, 7, 5, 2, 6, 0, 0, 3, 3, 3, 3, 9, 1, 4, 0, 6, 1, 0, 0, 6, 2, 1, 1, 7, 7, 3, 4, 6, 0, 7, 0, 3, 6, 3, 7, 1, 3, 1, 4, 9, 4, 2, 6, 4, 1, 7, 2, 6, 3, 0, 1, 2, 3, 4, 5, 6, 7, 8, 9, 0, 1, 1, 3, 4, 5, 6]\n"
          ]
        }
      ]
    },
    {
      "cell_type": "code",
      "source": [
        "plt.imshow(X_test[2])"
      ],
      "metadata": {
        "colab": {
          "base_uri": "https://localhost:8080/",
          "height": 448
        },
        "id": "6dYjXmFIFZ9K",
        "outputId": "69a5c62a-aa54-4c1c-b073-fce8918d960e"
      },
      "execution_count": 110,
      "outputs": [
        {
          "output_type": "execute_result",
          "data": {
            "text/plain": [
              "<matplotlib.image.AxesImage at 0x7e679351ae10>"
            ]
          },
          "metadata": {},
          "execution_count": 110
        },
        {
          "output_type": "display_data",
          "data": {
            "text/plain": [
              "<Figure size 640x480 with 1 Axes>"
            ],
            "image/png": "[encoded data removed]"
          },
          "metadata": {}
        }
      ]
    },
    {
      "cell_type": "code",
      "source": [
        "print(Y_predict_labels[2])"
      ],
      "metadata": {
        "colab": {
          "base_uri": "https://localhost:8080/"
        },
        "id": "jbCP8049FlV2",
        "outputId": "103d3f34-1b40-44b6-b3cf-940b17251f60"
      },
      "execution_count": 111,
      "outputs": [
        {
          "output_type": "stream",
          "name": "stdout",
          "text": [
            "1\n"
          ]
        }
      ]
    },
    {
      "cell_type": "markdown",
      "source": [
        "Y_test -> True labels \\\\\n",
        "Y_predict_labels -> represents the Predicted Labels"
      ],
      "metadata": {
        "id": "-mmm6-RJFzpb"
      }
    },
    {
      "cell_type": "markdown",
      "source": [
        "\n",
        "\n",
        "---\n",
        "**Building the Confusion Matrix**\n"
      ],
      "metadata": {
        "id": "RiIpnSaLF_1t"
      }
    },
    {
      "cell_type": "code",
      "source": [
        "confusion_mat=confusion_matrix(Y_test,Y_predict_labels)"
      ],
      "metadata": {
        "id": "fr-GL--aFv6u"
      },
      "execution_count": 112,
      "outputs": []
    },
    {
      "cell_type": "code",
      "source": [
        "print(confusion_mat)"
      ],
      "metadata": {
        "colab": {
          "base_uri": "https://localhost:8080/"
        },
        "id": "1zHngD7OGNbh",
        "outputId": "bdcecea0-b1d0-4ac9-ed1f-46ef8b76c7b9"
      },
      "execution_count": 113,
      "outputs": [
        {
          "output_type": "stream",
          "name": "stdout",
          "text": [
            "tf.Tensor(\n",
            "[[ 975    1    0    1    0    0    1    0    1    1]\n",
            " [  16 1109    1    4    0    1    3    0    1    0]\n",
            " [  22  108  890    6    0    0    2    2    2    0]\n",
            " [   2    2    8  995    0    3    0    0    0    0]\n",
            " [  20   11   12    0  908    0   10    5    0   16]\n",
            " [  11    1    1  189    1  688    0    0    1    0]\n",
            " [  44    3    2    0    2  286  621    0    0    0]\n",
            " [  20    2   20   68    0    1    0  914    0    3]\n",
            " [  74    4   11   63    2   82   18    5  704   11]\n",
            " [  17    3    2   50   19   45    1   45    4  823]], shape=(10, 10), dtype=int32)\n"
          ]
        }
      ]
    },
    {
      "cell_type": "code",
      "source": [
        "plt.figure(figsize=(15,7))\n",
        "sns.heatmap(confusion_mat,annot=True,fmt='d',cmap='Reds')\n",
        "plt.ylabel('True Labels')\n",
        "plt.xlabel('Predicted Labels')"
      ],
      "metadata": {
        "colab": {
          "base_uri": "https://localhost:8080/",
          "height": 381
        },
        "id": "eI1VaLdUGPYh",
        "outputId": "25593372-ca0f-4d2c-dc03-bc5a6006d0eb"
      },
      "execution_count": 114,
      "outputs": [
        {
          "output_type": "execute_result",
          "data": {
            "text/plain": [
              "Text(0.5, 47.7222222222222, 'Predicted Labels')"
            ]
          },
          "metadata": {},
          "execution_count": 114
        },
        {
          "output_type": "display_data",
          "data": {
            "text/plain": [
              "<Figure size 1500x700 with 2 Axes>"
            ],
            "image/png": "[encoded data removed]"
          },
          "metadata": {}
        }
      ]
    },
    {
      "cell_type": "markdown",
      "source": [
        "**Building a Predictive System**"
      ],
      "metadata": {
        "id": "DEPGezakHne4"
      }
    },
    {
      "cell_type": "code",
      "source": [
        "input_img_path='/content/MNIST_digit.png'\n",
        "input_img=cv2.imread(input_img_path)"
      ],
      "metadata": {
        "id": "FxjbjYp8Gbsk"
      },
      "execution_count": 115,
      "outputs": []
    },
    {
      "cell_type": "code",
      "source": [
        "type(input_img)"
      ],
      "metadata": {
        "colab": {
          "base_uri": "https://localhost:8080/"
        },
        "id": "NuQnJFXyIOMq",
        "outputId": "c4c30fa6-d601-484c-f6e7-2c5d0b3ea493"
      },
      "execution_count": 116,
      "outputs": [
        {
          "output_type": "execute_result",
          "data": {
            "text/plain": [
              "numpy.ndarray"
            ]
          },
          "metadata": {},
          "execution_count": 116
        }
      ]
    },
    {
      "cell_type": "code",
      "source": [
        "cv2_imshow(input_img)"
      ],
      "metadata": {
        "colab": {
          "base_uri": "https://localhost:8080/",
          "height": 335
        },
        "id": "of1QdZGHIQfY",
        "outputId": "f9192200-2e98-4d1e-fe7b-1737dfe9da5c"
      },
      "execution_count": 117,
      "outputs": [
        {
          "output_type": "display_data",
          "data": {
            "text/plain": [
              "<PIL.Image.Image image mode=RGB size=318x318>"
            ],
            "image/png": "[encoded data removed]",
            "image/jpeg": "[encoded data removed]"
          },
          "metadata": {}
        }
      ]
    },
    {
      "cell_type": "code",
      "source": [
        "input_img.shape"
      ],
      "metadata": {
        "colab": {
          "base_uri": "https://localhost:8080/"
        },
        "id": "kJ34vspFIXrt",
        "outputId": "b76e4611-03b2-4f81-d519-6046d849c016"
      },
      "execution_count": 118,
      "outputs": [
        {
          "output_type": "execute_result",
          "data": {
            "text/plain": [
              "(318, 318, 3)"
            ]
          },
          "metadata": {},
          "execution_count": 118
        }
      ]
    },
    {
      "cell_type": "code",
      "source": [
        "grayscale_img=cv2.cvtColor(input_img,cv2.COLOR_RGB2GRAY)\n"
      ],
      "metadata": {
        "id": "Jkjxd-hKIbba"
      },
      "execution_count": 119,
      "outputs": []
    },
    {
      "cell_type": "code",
      "source": [
        "grayscale_img.shape"
      ],
      "metadata": {
        "colab": {
          "base_uri": "https://localhost:8080/"
        },
        "id": "FzHstwa8Ix5L",
        "outputId": "7f0c3658-6275-4ef8-c080-da7911bfb451"
      },
      "execution_count": 120,
      "outputs": [
        {
          "output_type": "execute_result",
          "data": {
            "text/plain": [
              "(318, 318)"
            ]
          },
          "metadata": {},
          "execution_count": 120
        }
      ]
    },
    {
      "cell_type": "code",
      "source": [
        "resized_grayscale_img=cv2.resize(grayscale_img,(28,28))"
      ],
      "metadata": {
        "id": "bX4t9ms6Iz_A"
      },
      "execution_count": 121,
      "outputs": []
    },
    {
      "cell_type": "code",
      "source": [
        "resized_grayscale_img.shape"
      ],
      "metadata": {
        "colab": {
          "base_uri": "https://localhost:8080/"
        },
        "id": "dN50ilLLI8DW",
        "outputId": "d7088fb9-ad1b-4a57-e020-a85e6e4d3c68"
      },
      "execution_count": 122,
      "outputs": [
        {
          "output_type": "execute_result",
          "data": {
            "text/plain": [
              "(28, 28)"
            ]
          },
          "metadata": {},
          "execution_count": 122
        }
      ]
    },
    {
      "cell_type": "code",
      "source": [
        "cv2_imshow(resized_grayscale_img)"
      ],
      "metadata": {
        "colab": {
          "base_uri": "https://localhost:8080/",
          "height": 45
        },
        "id": "2z_18XuhJAdB",
        "outputId": "f2a2bbeb-1b35-4391-e8dd-a3bf636bdc5f"
      },
      "execution_count": 123,
      "outputs": [
        {
          "output_type": "display_data",
          "data": {
            "text/plain": [
              "<PIL.Image.Image image mode=L size=28x28>"
            ],
            "image/png": "[encoded data removed]",
            "image/jpeg": "[encoded data removed]"
          },
          "metadata": {}
        }
      ]
    },
    {
      "cell_type": "code",
      "source": [
        "resized_grayscale_img=resized_grayscale_img/255\n"
      ],
      "metadata": {
        "id": "B_dwvFQZJFpn"
      },
      "execution_count": 124,
      "outputs": []
    },
    {
      "cell_type": "code",
      "source": [
        "reshaped_img=np.reshape(resized_grayscale_img,[1,28,28])"
      ],
      "metadata": {
        "id": "wowCFqFqJvfI"
      },
      "execution_count": 125,
      "outputs": []
    },
    {
      "cell_type": "code",
      "source": [
        "input_predict=model.predict(reshaped_img)\n",
        "print(input_predict)"
      ],
      "metadata": {
        "colab": {
          "base_uri": "https://localhost:8080/"
        },
        "id": "upXX4DD4J2mq",
        "outputId": "5290a37a-d099-4f7d-d57a-df11921c9817"
      },
      "execution_count": 126,
      "outputs": [
        {
          "output_type": "stream",
          "name": "stdout",
          "text": [
            "\u001b[1m1/1\u001b[0m \u001b[32m━━━━━━━━━━━━━━━━━━━━\u001b[0m\u001b[37m\u001b[0m \u001b[1m0s\u001b[0m 23ms/step\n",
            "[[1.1519069e-14 2.3240932e-06 4.2537399e-10 1.0000000e+00 3.0834011e-16\n",
            "  2.2570302e-03 1.0733451e-18 2.8176654e-09 1.9450894e-05 5.8948990e-05]]\n"
          ]
        }
      ]
    },
    {
      "cell_type": "code",
      "source": [
        "input_predict_label=np.argmax(input_predict)\n",
        "print(input_predict_label)"
      ],
      "metadata": {
        "colab": {
          "base_uri": "https://localhost:8080/"
        },
        "id": "4rHVEAn8KI2F",
        "outputId": "84330220-f848-46e3-e387-87051768bee0"
      },
      "execution_count": 127,
      "outputs": [
        {
          "output_type": "stream",
          "name": "stdout",
          "text": [
            "3\n"
          ]
        }
      ]
    },
    {
      "cell_type": "markdown",
      "source": [
        "**Predictive System**"
      ],
      "metadata": {
        "id": "D0p1Eq51KdHS"
      }
    },
    {
      "cell_type": "code",
      "source": [
        "input_img_path=input('Path of the image to be predicted:')\n",
        "input_img=cv2.imread(input_img_path)\n",
        "\n",
        "cv2_imshow(input_img)\n",
        "\n",
        "grayscale_img=cv2.cvtColor(input_img,cv2.COLOR_RGB2GRAY)\n",
        "\n",
        "resized_grayscale_img=cv2.resize(grayscale_img,(28,28))\n",
        "\n",
        "resized_grayscale_img=resized_grayscale_img/255\n",
        "\n",
        "reshaped_img=np.reshape(resized_grayscale_img,[1,28,28])\n",
        "\n",
        "input_predict=model.predict(reshaped_img)\n",
        "\n",
        "input_predict_label=np.argmax(input_predict)\n",
        "\n",
        "print('The Digit is recognised as ',input_predict_label)"
      ],
      "metadata": {
        "colab": {
          "base_uri": "https://localhost:8080/",
          "height": 389
        },
        "id": "O7JyLvw2KSzO",
        "outputId": "cf26f4e2-23dd-44c6-8668-49d392193566"
      },
      "execution_count": 128,
      "outputs": [
        {
          "name": "stdout",
          "output_type": "stream",
          "text": [
            "Path of the image to be predicted:/content/MNIST_digit.png\n"
          ]
        },
        {
          "output_type": "display_data",
          "data": {
            "text/plain": [
              "<PIL.Image.Image image mode=RGB size=318x318>"
            ],
            "image/png": "[encoded data removed]",
            "image/jpeg": "[encoded data removed]"
          },
          "metadata": {}
        },
        {
          "output_type": "stream",
          "name": "stdout",
          "text": [
            "\u001b[1m1/1\u001b[0m \u001b[32m━━━━━━━━━━━━━━━━━━━━\u001b[0m\u001b[37m\u001b[0m \u001b[1m0s\u001b[0m 22ms/step\n",
            "The Digit is recognised as  3\n"
          ]
        }
      ]
    }
  ]
}